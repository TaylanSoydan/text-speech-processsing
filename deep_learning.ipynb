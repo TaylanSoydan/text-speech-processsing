{
  "cells": [
    {
      "cell_type": "code",
      "execution_count": 1,
      "metadata": {
        "id": "v1BpCQAIMYso"
      },
      "outputs": [
        {
          "name": "stderr",
          "output_type": "stream",
          "text": [
            "[nltk_data] Downloading package punkt to\n",
            "[nltk_data]     C:\\Users\\taylan\\AppData\\Roaming\\nltk_data...\n",
            "[nltk_data]   Package punkt is already up-to-date!\n",
            "[nltk_data] Downloading package stopwords to\n",
            "[nltk_data]     C:\\Users\\taylan\\AppData\\Roaming\\nltk_data...\n",
            "[nltk_data]   Package stopwords is already up-to-date!\n"
          ]
        }
      ],
      "source": [
        "import gutenbergpy.textget\n",
        "from catboost import CatBoostClassifier, Pool\n",
        "import shap\n",
        "from transformers import DistilBertTokenizer, DistilBertForSequenceClassification\n",
        "from torch.utils.data import DataLoader, TensorDataset\n",
        "import torch\n",
        "import torch\n",
        "from transformers import DistilBertForSequenceClassification, AdamW\n",
        "from torch.utils.data import DataLoader, RandomSampler, SequentialSampler\n",
        "from transformers import get_linear_schedule_with_warmup\n",
        "import pandas as pd\n",
        "import numpy as np\n",
        "import re\n",
        "import nltk\n",
        "from nltk.tokenize import word_tokenize, sent_tokenize\n",
        "from nltk.probability import FreqDist\n",
        "import matplotlib.pyplot as plt\n",
        "from wordcloud import WordCloud\n",
        "from nltk.corpus import stopwords\n",
        "nltk.download('punkt')  # Download necessary data\n",
        "nltk.download('stopwords')\n",
        "import string\n",
        "import re\n",
        "from nltk import FreqDist\n",
        "import pickle\n",
        "import matplotlib.pyplot as plt\n",
        "from sklearn.utils import resample\n",
        "from sklearn.feature_extraction.text import TfidfVectorizer\n",
        "from sklearn.model_selection import train_test_split\n",
        "from sklearn.linear_model import LogisticRegression\n",
        "from sklearn.ensemble import RandomForestClassifier\n",
        "from sklearn.metrics import (\n",
        "    accuracy_score,\n",
        "    precision_score,\n",
        "    recall_score,\n",
        "    f1_score,\n",
        "    classification_report,\n",
        "    confusion_matrix,\n",
        "    cohen_kappa_score,\n",
        "    matthews_corrcoef,\n",
        "    roc_auc_score,\n",
        "    ConfusionMatrixDisplay)\n",
        "import pandas as pd\n",
        "import numpy as np\n",
        "from sklearn.model_selection import train_test_split\n",
        "import torch\n",
        "import pandas as pd\n",
        "import re\n",
        "import nltk\n",
        "from nltk.tokenize import sent_tokenize\n",
        "from belt_nlp.bert_with_pooling import BertClassifierWithPooling\n",
        "import seaborn as sns\n",
        "import umap"
      ]
    },
    {
      "cell_type": "code",
      "execution_count": 2,
      "metadata": {
        "id": "Iu6117duModa"
      },
      "outputs": [],
      "source": [
        "def get_text(id):\n",
        "    # This gets a book by its gutenberg id number\n",
        "    raw_book = gutenbergpy.textget.get_text_by_id(id) # with headers\n",
        "    clean_book = gutenbergpy.textget.strip_headers(raw_book) # without headers\n",
        "    return clean_book, raw_book\n",
        "def clean_tokenize_filter(text):\n",
        "  text = text.decode('utf-8')\n",
        "  words = text.split()\n",
        "\n",
        "  # Clean and join the words while preserving spaces\n",
        "  # Clean and join the words while preserving spaces and apostrophes\n",
        "  cleaned_text = ' '.join([re.sub(r'[^a-zA-Z0-9\\s\\'\".?!,:;()-]', '', word) for word in words])\n",
        "  cleaned_text = cleaned_text.replace(\"'\",\"\")\n",
        "  cleaned_text = cleaned_text.lower()\n",
        "\n",
        "  # Tokenize the text\n",
        "  tokens = word_tokenize(cleaned_text)\n",
        "\n",
        "  stop_words = set(stopwords.words('english'))\n",
        "  filtered_tokens = [word for word in tokens if word.lower() not in stop_words]\n",
        "  filtered_tokens = [word for word in filtered_tokens if word not in string.punctuation]\n",
        "  filtered_tokens = [re.sub(r'[%s]+' % re.escape(string.punctuation), '', word) for word in filtered_tokens]\n",
        "  # Remove empty strings resulting from removing punctuation\n",
        "  filtered_tokens = [word for word in filtered_tokens if word and not word.isspace()]\n",
        "\n",
        "  # Join the filtered tokens back into a single cleaned_text\n",
        "  filtered_text = ' '.join(filtered_tokens)\n",
        "  return cleaned_text, tokens, filtered_tokens, filtered_text\n",
        "def encode_decode_text(text, target_encoding='utf-8'):\n",
        "    try:\n",
        "        # Attempt to decode the text using the target encoding\n",
        "        decoded_text = text.decode(target_encoding)\n",
        "\n",
        "        # If decoding is successful, return the decoded text\n",
        "        return decoded_text\n",
        "    except UnicodeDecodeError:\n",
        "        # If decoding fails, assume the text is already in the target encoding\n",
        "        return text.encode(target_encoding)\n",
        "def process_df(df,author_list):\n",
        "  processed_df = df[\n",
        "    (df[\"Audio\"] != \"Audio\\xa0\\xa0\") &\n",
        "    (df[\"Language\"] == \"English\") &\n",
        "    (df[\"Author\"].isin(author_list))\n",
        "    ].reset_index()\n",
        "  processed_df[\"Etext-No.\"] = processed_df[\"Etext-No.\"].astype(int)\n",
        "  processed_df[\"Author\"] = processed_df[\"Author\"].apply(lambda x: x.split(\", 1\")[0])\n",
        "  return processed_df\n",
        "\n",
        "def get_middle_section_by_pct(input_string, percentage):\n",
        "    words = input_string.split()\n",
        "    total_words = len(words)\n",
        "    middle_word_count = int(total_words * percentage)\n",
        "    start_word = max(0, (total_words - middle_word_count) // 2)\n",
        "    end_word = start_word + middle_word_count\n",
        "    middle_words = ' '.join(words[start_word:end_word])\n",
        "    return middle_words\n",
        "\n",
        "def get_middle_section_by_words(input_string, num_words):\n",
        "    words = input_string.split()\n",
        "    middle_index = len(words) // 2\n",
        "    return ' '.join(words[max(0, middle_index - num_words // 2):middle_index + num_words // 2])\n",
        "\n",
        "def prepare_dictionary(clean_df, chunk_pct = None):\n",
        "  dictionary = {}\n",
        "  for author in list(clean_df[\"Author\"].unique()):\n",
        "    dictionary[author] = {}\n",
        "  all_text = \" \".encode('utf-8')\n",
        "  for i,row in clean_df.loc[:].iterrows():\n",
        "    no = row[\"Etext-No.\"]\n",
        "    author, title = clean_df.loc[i,[\"Author\",\"Title\"]].values\n",
        "    try:\n",
        "      text, raw = get_text(no)\n",
        "      if chunk_pct:\n",
        "        try:\n",
        "          text = text[len(text)//2 - chunk_pct:len(text)//2 + chunk_pct]\n",
        "        except:\n",
        "          print(\"can't get chunk\")\n",
        "          pass\n",
        "      cleaned_text, tokens, filtered_tokens, filtered_text = clean_tokenize_filter(text)\n",
        "      print(author,title,\" successfull\")\n",
        "      dictionary[author][title] = {\"cleaned_text\":cleaned_text, \"tokens\": tokens, \"filtered_tokens\": filtered_tokens, \"filtered_text\": filtered_text}\n",
        "      all_text = all_text + text\n",
        "    except:\n",
        "      print(author,title,\" failed\")\n",
        "      pass\n",
        "  text = text.decode('utf-8')\n",
        "  return dictionary, all_text\n",
        "\n",
        "def plot_pie_chart(dictionary, title):\n",
        "  work_length_dict = {author: 0 for author in dictionary.keys()}\n",
        "  for author in dictionary.keys():\n",
        "    for work in dictionary[author].keys():\n",
        "      work_length_dict[author] += len(dictionary[author][work][\"filtered_text\"].split(\" \"))\n",
        "\n",
        "  df = pd.DataFrame.from_dict(work_length_dict, orient='index', columns=[\"Total Words\"])\n",
        "  ax = df.plot.pie(y=\"Total Words\", figsize=(8, 6), legend=False, autopct='%1.1f%%', title=title)\n",
        "  ax.set_ylabel('')\n",
        "\n",
        "def undersample_df(df, target_column_name):\n",
        "    majority_class = df[df[target_column_name] == 0]\n",
        "    minority_class = df[df[target_column_name] == 1]\n",
        "    minority_class_size = len(minority_class)\n",
        "    undersampled_majority = resample(majority_class, replace=False, n_samples=minority_class_size, random_state=42)\n",
        "    undersampled_df = pd.concat([undersampled_majority, minority_class])\n",
        "    undersampled_df = undersampled_df.sample(frac=1, random_state=42)\n",
        "\n",
        "    return undersampled_df\n",
        "\n",
        "def print_classification_metrics(y_test, predictions, labels):\n",
        "    # Calculate and print various classification metrics\n",
        "    accuracy = accuracy_score(y_test, predictions)\n",
        "    precision = precision_score(y_test, predictions)\n",
        "    recall = recall_score(y_test, predictions)\n",
        "    f1 = f1_score(y_test, predictions)\n",
        "    cohen_kappa = cohen_kappa_score(y_test, predictions)\n",
        "    matthews_corr = matthews_corrcoef(y_test, predictions)\n",
        "    roc_auc = roc_auc_score(y_test, predictions)\n",
        "    #cm = confusion_matrix(y_test, predictions, labels=labels)\n",
        "    #disp = ConfusionMatrixDisplay(confusion_matrix=cm,display_labels=labels)\n",
        "\n",
        "    disp = ConfusionMatrixDisplay.from_predictions(y_test, predictions)\n",
        "\n",
        "    print(f\"Accuracy: {accuracy:.2f}\")\n",
        "    print(f\"Precision: {precision:.2f}\")\n",
        "    print(f\"Recall: {recall:.2f}\")\n",
        "    print(f\"F1 Score: {f1:.2f}\")\n",
        "    print(f\"Cohen's Kappa: {cohen_kappa:.2f}\")\n",
        "    print(f\"Matthew's Correlation Coefficient: {matthews_corr:.2f}\")\n",
        "    print(f\"ROC AUC Score: {roc_auc:.2f}\")\n",
        "\n",
        "    # Print the classification report\n",
        "    print(\"Classification Report:\")\n",
        "    print(classification_report(y_test, predictions))\n",
        "\n",
        "    #disp.plot()\n",
        "\n",
        "def print_split_stats(X_train, X_val, X_test, y_train, y_val, y_test, train, val, test):\n",
        "  print(\"data target dist =\\n\",data[\"Target\"].value_counts()/sum(data[\"Target\"].value_counts()))\n",
        "  total_samples = train.shape[0] + test.shape[0] + val.shape[0] + 1e-10\n",
        "  print(\"train val test ratio = \",train.shape[0] / total_samples, val.shape[0] / total_samples, test.shape[0] / total_samples, )\n",
        "  print(\"train val test target dist = \",train[\"Target\"].value_counts()/sum(train[\"Target\"].value_counts()),val[\"Target\"].value_counts()/sum(val[\"Target\"].value_counts()),test[\"Target\"].value_counts()/sum(test[\"Target\"].value_counts()))\n",
        "  print(\"X_train shape = {}\\n X_val shape = {}\\n X_test shape = {}\\n y_train shape = {}\\n y_val shape = {}\\n y_test shape = {}\\n train shape = {}\\n test shape = {}\".format(X_train.shape,X_val .shape ,X_test .shape, y_train.shape, y_val.shape, y_test.shape, train.shape, test.shape))\n",
        "  return train[\"Target\"].value_counts()/sum(train[\"Target\"].value_counts()),val[\"Target\"].value_counts()/sum(val[\"Target\"].value_counts()),test[\"Target\"].value_counts()/sum(test[\"Target\"].value_counts())"
      ]
    },
    {
      "cell_type": "markdown",
      "metadata": {
        "id": "E_xhLkfV0ODA"
      },
      "source": [
        "Load"
      ]
    },
    {
      "cell_type": "code",
      "execution_count": 3,
      "metadata": {
        "id": "ozyF-1qte4vO"
      },
      "outputs": [],
      "source": [
        "with open(\"sad.pkl\", 'rb') as pickle_file:\n",
        "    sad_all_text, sad_dict = pickle.load(pickle_file)\n",
        "with open(\"happy.pkl\", 'rb') as pickle_file:\n",
        "    happy_all_text, happy_dict = pickle.load(pickle_file)"
      ]
    },
    {
      "cell_type": "markdown",
      "metadata": {
        "id": "eQHrkk0xMAyH"
      },
      "source": [
        "Process Data for ML"
      ]
    },
    {
      "cell_type": "code",
      "execution_count": 4,
      "metadata": {},
      "outputs": [
        {
          "name": "stdout",
          "output_type": "stream",
          "text": [
            "(655, 6)\n"
          ]
        }
      ],
      "source": [
        "# Read the dictionaries, append, create df\n",
        "texts = []\n",
        "for author in sad_dict.keys():\n",
        "  for work in sad_dict[author].keys():\n",
        "    texts.append([author,work,sad_dict[author][work][\"cleaned_text\"],1])\n",
        "for author in happy_dict.keys():\n",
        "  for work in happy_dict[author].keys():\n",
        "    texts.append([author,work,happy_dict[author][work][\"cleaned_text\"],0])\n",
        "data = pd.DataFrame(texts, columns = [\"Author\",\"Work\",\"Text\",\"Target\"])\n",
        "\n",
        "# Remove illustration phrases used for pictures\n",
        "data[\"Text\"] = data[\"Text\"].apply(lambda x: x.replace(\"illustration\",\"\"))\n",
        "\n",
        "# Get the 0.8 middle chunk of the text to avoid Project Gutenberg information\n",
        "data[\"Text\"] = data[\"Text\"].apply(lambda x : get_middle_section_by_pct(x,0.8))\n",
        "\n",
        "# Calculate Total Words and Chars\n",
        "data[\"Words\"] = data[\"Text\"].apply(lambda x : len(x.split(\" \")))\n",
        "data[\"Chars\"] = data[\"Text\"].apply(lambda x : len(x))\n",
        "\n",
        "print(data.shape)"
      ]
    },
    {
      "cell_type": "code",
      "execution_count": 5,
      "metadata": {},
      "outputs": [],
      "source": [
        "del texts"
      ]
    },
    {
      "cell_type": "code",
      "execution_count": 6,
      "metadata": {},
      "outputs": [],
      "source": [
        "del sad_all_text\n",
        "del happy_all_text"
      ]
    },
    {
      "cell_type": "code",
      "execution_count": 7,
      "metadata": {
        "colab": {
          "base_uri": "https://localhost:8080/",
          "height": 441
        },
        "id": "R_AfGhVDTKYA",
        "outputId": "8770ca15-6cb0-40c8-a463-15a1c2897e30"
      },
      "outputs": [
        {
          "name": "stderr",
          "output_type": "stream",
          "text": [
            "In a future version of pandas all arguments of concat except for the argument 'objs' will be keyword-only.\n",
            "In a future version of pandas all arguments of concat except for the argument 'objs' will be keyword-only.\n"
          ]
        }
      ],
      "source": [
        "df_author_grouped = pd.concat([data.groupby(\"Author\")[\"Text\"].sum().reset_index(),\n",
        "                               data.groupby(\"Author\")[\"Target\"].mean().astype(int).reset_index(drop = True),\n",
        "                               data.groupby(\"Author\")[\"Work\"].size().reset_index(drop = True),\n",
        "\n",
        "],1).rename(columns = {\"Work\":\"Works\"})\n",
        "df_author_grouped[\"Words\"] = df_author_grouped[\"Text\"].apply(lambda x : len(x.split(\" \")))\n",
        "df_author_grouped[\"Chars\"] = df_author_grouped[\"Text\"].apply(lambda x : len(x))\n",
        "df_author_grouped = df_author_grouped.sort_values([\"Target\",\"Words\"]).reset_index(drop = True)\n",
        "\n",
        "\n",
        "df_author_grouped = df_author_grouped[~df_author_grouped[\"Author\"].isin([\"Twain, Mark\",\"Dickens, Charles\"])].reset_index(drop = True)\n",
        "\n",
        "df_author_grouped\n",
        "author_info_cumulative = pd.concat([df_author_grouped,pd.concat([df_author_grouped[df_author_grouped[\"Target\"] == 0][::-1].cumsum(),df_author_grouped[df_author_grouped[\"Target\"] == 1][::-1].cumsum()])[[\"Words\"]]\n",
        "                                    ,pd.concat([df_author_grouped[df_author_grouped[\"Target\"] == 0][::-1].cumsum(),df_author_grouped[df_author_grouped[\"Target\"] == 1][::-1].cumsum()])[[\"Works\"]]\n",
        "                                    ],1)\n",
        "author_info_cumulative.columns = [\"Author\",\"Text\",\"Target\",\"Works\",\"Words\",\"Chars\",\"Words_cumsum\",\"Works_cumsum\"]\n",
        "author_info_cumulative[\"Word_cumsum_pct\"] = pd.concat([author_info_cumulative[author_info_cumulative[\"Target\"] == 0] [\"Words_cumsum\"] / author_info_cumulative.loc[author_info_cumulative[\"Target\"] == 0,\"Words_cumsum\"].max(),\n",
        "           author_info_cumulative[author_info_cumulative[\"Target\"] == 1] [\"Words_cumsum\"] / author_info_cumulative.loc[author_info_cumulative[\"Target\"] == 1,\"Words_cumsum\"].max() ] )"
      ]
    },
    {
      "cell_type": "markdown",
      "metadata": {
        "id": "Cu6sGHsip1OX"
      },
      "source": [
        "Decide the Splits"
      ]
    },
    {
      "cell_type": "markdown",
      "metadata": {
        "id": "qyZQUCDyLcRS"
      },
      "source": [
        "Random sampling brute force to find a balanced author split"
      ]
    },
    {
      "cell_type": "code",
      "execution_count": null,
      "metadata": {
        "id": "bUX9GiEYrsn1"
      },
      "outputs": [],
      "source": [
        "%%capture\n",
        "from random import sample\n",
        "params_scores = []\n",
        "for aq in range(2,7):\n",
        "  for bq in range(2,10-aq):\n",
        "    for _ in range(100):\n",
        "      try:\n",
        "        indexes_0 = author_info_cumulative[author_info_cumulative[\"Target\"] == 0].index.values\n",
        "        indexes_1 = author_info_cumulative[author_info_cumulative[\"Target\"] == 1].index.values\n",
        "        all_indexes = author_info_cumulative.index.values\n",
        "\n",
        "        chosen_test_indexes = np.concatenate([np.random.choice(indexes_0, aq, replace = False), np.random.choice(indexes_1, bq, replace = False)])\n",
        "        chosen_train_indexes = np.delete(all_indexes, chosen_test_indexes)\n",
        "\n",
        "        train_dict = {i:\"train\" for i in author_info_cumulative.iloc[np.r_[chosen_train_indexes]][\"Author\"].values}\n",
        "        test_dict = {i:\"test\" for i in author_info_cumulative.iloc[np.r_[chosen_test_indexes]][\"Author\"].values}\n",
        "        author_split_dict = train_dict | test_dict\n",
        "        #print(author_split_dict)\n",
        "        author_info_cumulative[\"Split\"] = author_info_cumulative[\"Author\"].map(author_split_dict)\n",
        "        data[\"Split\"] = data[\"Author\"].map(author_split_dict)\n",
        "        df = data.copy()\n",
        "        train, test = df[df[\"Split\"] == \"train\"], df[df[\"Split\"] == \"test\"]\n",
        "        X_train, X_test = train[\"Text\"].values, test[\"Text\"].values\n",
        "        y_train, y_test = train[\"Target\"].values, test[\"Target\"].values\n",
        "        x,y = print_split_stats(X_train, X_test , y_train, y_test, train, test)\n",
        "        score = np.abs(x[0] - 0.5) + np.abs(y[0] - 0.5)\n",
        "        params_scores.append([author_split_dict,len(train_dict),len(test_dict),x[0],y[0],score])\n",
        "        #print(test)\n",
        "      except:\n",
        "        pass"
      ]
    },
    {
      "cell_type": "code",
      "execution_count": 10,
      "metadata": {},
      "outputs": [],
      "source": [
        "%%capture\n",
        "from random import sample\n",
        "params_scores = []\n",
        "indexes = []\n",
        "doubles = []\n",
        "chosen_train_indexes,chosen_val_indexes,chosen_test_indexes = [1,2], [3,4], [5,6]\n",
        "for aq in range(1,8):\n",
        "  for bq in range(1,8):\n",
        "    for cq in range(1,8):\n",
        "      for dq in range(1,8):\n",
        "        for _ in range(100):\n",
        "          if [chosen_train_indexes,chosen_val_indexes,chosen_test_indexes] not in params_scores: \n",
        "            try:\n",
        "              indexes_0 = author_info_cumulative[author_info_cumulative[\"Target\"] == 0].index.values\n",
        "              indexes_1 = author_info_cumulative[author_info_cumulative[\"Target\"] == 1].index.values\n",
        "              all_indexes = author_info_cumulative.index.values\n",
        "\n",
        "              chosen_test_indexes = np.concatenate([np.random.choice(indexes_0, aq, replace = False), np.random.choice(indexes_1, bq, replace = False)])\n",
        "              chosen_train_indexes = np.delete(all_indexes, chosen_test_indexes)\n",
        "\n",
        "              chosen_train_indexes_0, chosen_train_indexes_1 = np.intersect1d(chosen_train_indexes, indexes_0), np.intersect1d(chosen_train_indexes, indexes_1)\n",
        "              chosen_val_indexes = np.concatenate([np.random.choice(chosen_train_indexes_0, cq, replace = False), np.random.choice(chosen_train_indexes_1, dq, replace = False)])\n",
        "          \n",
        "              chosen_train_indexes = np.delete(chosen_train_indexes, chosen_val_indexes)\n",
        "\n",
        "\n",
        "              train_dict = {i:\"train\" for i in author_info_cumulative.iloc[np.r_[chosen_train_indexes]][\"Author\"].values}\n",
        "              test_dict = {i:\"test\" for i in author_info_cumulative.iloc[np.r_[chosen_test_indexes]][\"Author\"].values}\n",
        "              val_dict = {i:\"val\" for i in author_info_cumulative.iloc[np.r_[chosen_val_indexes]][\"Author\"].values}\n",
        "\n",
        "              author_split_dict = train_dict | test_dict | val_dict\n",
        "              #print(author_split_dict)\n",
        "              author_info_cumulative[\"Split\"] = author_info_cumulative[\"Author\"].map(author_split_dict)\n",
        "              data[\"Split\"] = data[\"Author\"].map(author_split_dict)\n",
        "              df = data.copy()\n",
        "              train, test, val = df[df[\"Split\"] == \"train\"], df[df[\"Split\"] == \"test\"], df[df[\"Split\"] == \"val\"]\n",
        "              X_train, X_val, X_test = train[\"Text\"].values, val[\"Text\"].values, test[\"Text\"].values\n",
        "              y_train, y_val, y_test = train[\"Target\"].values, val[\"Target\"].values,test[\"Target\"].values\n",
        "\n",
        "              x,y,z = print_split_stats(X_train, X_val, X_test , y_train, y_val, y_test, train, val, test)\n",
        "              score = np.abs(x[0] - 0.5) + np.abs(y[0] - 0.5) +  np.abs(z[0] - 0.5)\n",
        "              params_scores.append([author_split_dict,len(train_dict),len(val_dict),len(test_dict),x[0],y[0],z[0],score])\n",
        "              indexes.append([chosen_train_indexes,chosen_val_indexes,chosen_test_indexes])\n",
        "              #print(test)\n",
        "            except:\n",
        "              pass\n",
        "          else:\n",
        "            doubles.append([chosen_train_indexes,chosen_val_indexes,chosen_test_indexes])    "
      ]
    },
    {
      "cell_type": "code",
      "execution_count": 11,
      "metadata": {
        "colab": {
          "base_uri": "https://localhost:8080/",
          "height": 400
        },
        "id": "iDEOYKnJcdBp",
        "outputId": "54e9174e-3184-4692-82b7-198b428537e3"
      },
      "outputs": [
        {
          "name": "stdout",
          "output_type": "stream",
          "text": [
            "{'Christie, Agatha': 'train', 'Milne, A. A. (Alan Alexander)': 'train', 'Shakespeare, William': 'train', 'Austen, Jane': 'val', 'Alcott, Louisa May': 'train', 'Verne, Jules': 'train', 'Verlaine, Paul': 'val', 'Nerval, Gérard de': 'train', 'Berryman, John': 'val', 'Kafka, Franz': 'train', 'Zweig, Stefan': 'train', 'Woolf, Virginia': 'val', 'Fitzgerald, F. Scott (Francis Scott)': 'train', 'Nietzsche, Friedrich Wilhelm': 'train', 'Dostoyevsky, Fyodor': 'train', 'London, Jack': 'train', 'Tolstoy, Leo, graf': 'train', 'Potter, Beatrix': 'test', 'Hemingway, Ernest': 'test', 'Poe, Edgar Allan': 'test', 'Westlake, Donald E.': 'val', 'Peck, Harry Thurston': 'val'}\n"
          ]
        },
        {
          "data": {
            "text/html": [
              "<div>\n",
              "<style scoped>\n",
              "    .dataframe tbody tr th:only-of-type {\n",
              "        vertical-align: middle;\n",
              "    }\n",
              "\n",
              "    .dataframe tbody tr th {\n",
              "        vertical-align: top;\n",
              "    }\n",
              "\n",
              "    .dataframe thead th {\n",
              "        text-align: right;\n",
              "    }\n",
              "</style>\n",
              "<table border=\"1\" class=\"dataframe\">\n",
              "  <thead>\n",
              "    <tr style=\"text-align: right;\">\n",
              "      <th></th>\n",
              "      <th>dict</th>\n",
              "      <th>nof_train_authors</th>\n",
              "      <th>nof_val_authors</th>\n",
              "      <th>nof_test_authors</th>\n",
              "      <th>train_balance</th>\n",
              "      <th>val_balance</th>\n",
              "      <th>test_balance</th>\n",
              "      <th>score</th>\n",
              "    </tr>\n",
              "  </thead>\n",
              "  <tbody>\n",
              "    <tr>\n",
              "      <th>0</th>\n",
              "      <td>{'Christie, Agatha': 'train', 'Milne, A. A. (A...</td>\n",
              "      <td>17</td>\n",
              "      <td>6</td>\n",
              "      <td>3</td>\n",
              "      <td>0.547904</td>\n",
              "      <td>0.483871</td>\n",
              "      <td>0.511628</td>\n",
              "      <td>0.075661</td>\n",
              "    </tr>\n",
              "    <tr>\n",
              "      <th>1</th>\n",
              "      <td>{'Westlake, Donald E.': 'train', 'Christie, Ag...</td>\n",
              "      <td>18</td>\n",
              "      <td>6</td>\n",
              "      <td>2</td>\n",
              "      <td>0.530201</td>\n",
              "      <td>0.536585</td>\n",
              "      <td>0.478261</td>\n",
              "      <td>0.088526</td>\n",
              "    </tr>\n",
              "    <tr>\n",
              "      <th>2</th>\n",
              "      <td>{'Christie, Agatha': 'val', 'Shakespeare, Will...</td>\n",
              "      <td>18</td>\n",
              "      <td>5</td>\n",
              "      <td>3</td>\n",
              "      <td>0.504587</td>\n",
              "      <td>0.541667</td>\n",
              "      <td>0.554622</td>\n",
              "      <td>0.100876</td>\n",
              "    </tr>\n",
              "    <tr>\n",
              "      <th>3</th>\n",
              "      <td>{'Westlake, Donald E.': 'train', 'Potter, Beat...</td>\n",
              "      <td>17</td>\n",
              "      <td>3</td>\n",
              "      <td>6</td>\n",
              "      <td>0.569767</td>\n",
              "      <td>0.550000</td>\n",
              "      <td>0.500000</td>\n",
              "      <td>0.119767</td>\n",
              "    </tr>\n",
              "    <tr>\n",
              "      <th>4</th>\n",
              "      <td>{'Potter, Beatrix': 'train', 'Christie, Agatha...</td>\n",
              "      <td>18</td>\n",
              "      <td>6</td>\n",
              "      <td>2</td>\n",
              "      <td>0.531646</td>\n",
              "      <td>0.517857</td>\n",
              "      <td>0.571429</td>\n",
              "      <td>0.120931</td>\n",
              "    </tr>\n",
              "    <tr>\n",
              "      <th>5</th>\n",
              "      <td>{'Westlake, Donald E.': 'train', 'Christie, Ag...</td>\n",
              "      <td>15</td>\n",
              "      <td>3</td>\n",
              "      <td>8</td>\n",
              "      <td>0.504630</td>\n",
              "      <td>0.578947</td>\n",
              "      <td>0.538462</td>\n",
              "      <td>0.122039</td>\n",
              "    </tr>\n",
              "    <tr>\n",
              "      <th>6</th>\n",
              "      <td>{'Potter, Beatrix': 'train', 'Christie, Agatha...</td>\n",
              "      <td>19</td>\n",
              "      <td>4</td>\n",
              "      <td>3</td>\n",
              "      <td>0.512605</td>\n",
              "      <td>0.568627</td>\n",
              "      <td>0.540816</td>\n",
              "      <td>0.122049</td>\n",
              "    </tr>\n",
              "    <tr>\n",
              "      <th>7</th>\n",
              "      <td>{'Potter, Beatrix': 'train', 'Christie, Agatha...</td>\n",
              "      <td>14</td>\n",
              "      <td>6</td>\n",
              "      <td>6</td>\n",
              "      <td>0.510870</td>\n",
              "      <td>0.483871</td>\n",
              "      <td>0.602151</td>\n",
              "      <td>0.129149</td>\n",
              "    </tr>\n",
              "    <tr>\n",
              "      <th>8</th>\n",
              "      <td>{'Westlake, Donald E.': 'train', 'Christie, Ag...</td>\n",
              "      <td>19</td>\n",
              "      <td>5</td>\n",
              "      <td>2</td>\n",
              "      <td>0.594203</td>\n",
              "      <td>0.486486</td>\n",
              "      <td>0.478261</td>\n",
              "      <td>0.129456</td>\n",
              "    </tr>\n",
              "    <tr>\n",
              "      <th>9</th>\n",
              "      <td>{'Westlake, Donald E.': 'train', 'Potter, Beat...</td>\n",
              "      <td>18</td>\n",
              "      <td>4</td>\n",
              "      <td>4</td>\n",
              "      <td>0.623100</td>\n",
              "      <td>0.500000</td>\n",
              "      <td>0.490000</td>\n",
              "      <td>0.133100</td>\n",
              "    </tr>\n",
              "  </tbody>\n",
              "</table>\n",
              "</div>"
            ],
            "text/plain": [
              "                                                dict  nof_train_authors  \\\n",
              "0  {'Christie, Agatha': 'train', 'Milne, A. A. (A...                 17   \n",
              "1  {'Westlake, Donald E.': 'train', 'Christie, Ag...                 18   \n",
              "2  {'Christie, Agatha': 'val', 'Shakespeare, Will...                 18   \n",
              "3  {'Westlake, Donald E.': 'train', 'Potter, Beat...                 17   \n",
              "4  {'Potter, Beatrix': 'train', 'Christie, Agatha...                 18   \n",
              "5  {'Westlake, Donald E.': 'train', 'Christie, Ag...                 15   \n",
              "6  {'Potter, Beatrix': 'train', 'Christie, Agatha...                 19   \n",
              "7  {'Potter, Beatrix': 'train', 'Christie, Agatha...                 14   \n",
              "8  {'Westlake, Donald E.': 'train', 'Christie, Ag...                 19   \n",
              "9  {'Westlake, Donald E.': 'train', 'Potter, Beat...                 18   \n",
              "\n",
              "   nof_val_authors  nof_test_authors  train_balance  val_balance  \\\n",
              "0                6                 3       0.547904     0.483871   \n",
              "1                6                 2       0.530201     0.536585   \n",
              "2                5                 3       0.504587     0.541667   \n",
              "3                3                 6       0.569767     0.550000   \n",
              "4                6                 2       0.531646     0.517857   \n",
              "5                3                 8       0.504630     0.578947   \n",
              "6                4                 3       0.512605     0.568627   \n",
              "7                6                 6       0.510870     0.483871   \n",
              "8                5                 2       0.594203     0.486486   \n",
              "9                4                 4       0.623100     0.500000   \n",
              "\n",
              "   test_balance     score  \n",
              "0      0.511628  0.075661  \n",
              "1      0.478261  0.088526  \n",
              "2      0.554622  0.100876  \n",
              "3      0.500000  0.119767  \n",
              "4      0.571429  0.120931  \n",
              "5      0.538462  0.122039  \n",
              "6      0.540816  0.122049  \n",
              "7      0.602151  0.129149  \n",
              "8      0.478261  0.129456  \n",
              "9      0.490000  0.133100  "
            ]
          },
          "execution_count": 11,
          "metadata": {},
          "output_type": "execute_result"
        }
      ],
      "source": [
        "params_scores = pd.DataFrame(params_scores, columns = [\"dict\",\"nof_train_authors\",\"nof_val_authors\",\"nof_test_authors\",\"train_balance\",\"val_balance\",\"test_balance\",\"score\"])\n",
        "params_scores = params_scores[(params_scores[\"nof_train_authors\"] > params_scores[\"nof_test_authors\"]) & (params_scores[\"nof_train_authors\"] > params_scores[\"nof_val_authors\"])].sort_values(\"score\").reset_index(drop = True)\n",
        "optimal_dict, optimal_score = params_scores.iloc[0,0], params_scores.iloc[0,1]\n",
        "print(optimal_dict)\n",
        "params_scores.head(10)"
      ]
    },
    {
      "cell_type": "code",
      "execution_count": 12,
      "metadata": {},
      "outputs": [
        {
          "name": "stdout",
          "output_type": "stream",
          "text": [
            "{'Christie, Agatha': 'train', 'Milne, A. A. (Alan Alexander)': 'train', 'Shakespeare, William': 'train', 'Austen, Jane': 'val', 'Alcott, Louisa May': 'train', 'Verne, Jules': 'train', 'Verlaine, Paul': 'val', 'Nerval, Gérard de': 'train', 'Berryman, John': 'val', 'Kafka, Franz': 'train', 'Zweig, Stefan': 'train', 'Woolf, Virginia': 'val', 'Fitzgerald, F. Scott (Francis Scott)': 'train', 'Nietzsche, Friedrich Wilhelm': 'train', 'Dostoyevsky, Fyodor': 'train', 'London, Jack': 'train', 'Tolstoy, Leo, graf': 'train', 'Potter, Beatrix': 'test', 'Hemingway, Ernest': 'test', 'Poe, Edgar Allan': 'test', 'Westlake, Donald E.': 'val', 'Peck, Harry Thurston': 'val'}\n",
            "{'Westlake, Donald E.': 'train', 'Christie, Agatha': 'val', 'Shakespeare, William': 'train', 'Austen, Jane': 'val', 'Alcott, Louisa May': 'train', 'Verne, Jules': 'train', 'Verlaine, Paul': 'train', 'Sterling, George': 'train', 'Nerval, Gérard de': 'train', 'Berryman, John': 'train', 'Peck, Harry Thurston': 'train', 'Woolf, Leonard': 'val', 'Hemingway, Ernest': 'val', 'Fitzgerald, F. Scott (Francis Scott)': 'val', 'Poe, Edgar Allan': 'train', 'Dostoyevsky, Fyodor': 'train', 'London, Jack': 'train', 'Tolstoy, Leo, graf': 'train', 'Potter, Beatrix': 'test', 'Nietzsche, Friedrich Wilhelm': 'test', 'Zweig, Stefan': 'val'}\n",
            "{'Christie, Agatha': 'val', 'Shakespeare, William': 'train', 'Austen, Jane': 'val', 'Verne, Jules': 'train', 'Verlaine, Paul': 'train', 'Sterling, George': 'train', 'Nerval, Gérard de': 'train', 'Berryman, John': 'train', 'Peck, Harry Thurston': 'train', 'Woolf, Leonard': 'train', 'Kafka, Franz': 'train', 'Hemingway, Ernest': 'train', 'Zweig, Stefan': 'val', 'Woolf, Virginia': 'train', 'Baldwin, James': 'train', 'Poe, Edgar Allan': 'val', 'Nietzsche, Friedrich Wilhelm': 'train', 'Tolstoy, Leo, graf': 'train', 'Alcott, Louisa May': 'test', 'Potter, Beatrix': 'test', 'London, Jack': 'test', 'Westlake, Donald E.': 'val'}\n"
          ]
        },
        {
          "data": {
            "text/plain": [
              "(None, None, None)"
            ]
          },
          "execution_count": 12,
          "metadata": {},
          "output_type": "execute_result"
        }
      ],
      "source": [
        "print(params_scores.iloc[0,0]), print(params_scores.iloc[1,0]), print(params_scores.iloc[2,0])"
      ]
    },
    {
      "cell_type": "code",
      "execution_count": 14,
      "metadata": {},
      "outputs": [
        {
          "name": "stdout",
          "output_type": "stream",
          "text": [
            "{'Westlake, Donald E.': 'train', 'Potter, Beatrix': 'train', 'Christie, Agatha': 'train', 'Shakespeare, William': 'train', 'Austen, Jane': 'val', 'Verne, Jules': 'train', 'Verlaine, Paul': 'train', 'Sterling, George': 'train', 'Nerval, Gérard de': 'train', 'Berryman, John': 'train', 'Woolf, Leonard': 'train', 'Kafka, Franz': 'val', 'Zweig, Stefan': 'train', 'Woolf, Virginia': 'val', 'Poe, Edgar Allan': 'train', 'Nietzsche, Friedrich Wilhelm': 'train', 'London, Jack': 'train', 'Milne, A. A. (Alan Alexander)': 'test', 'Wodehouse, P. G. (Pelham Grenville)': 'test', 'Hemingway, Ernest': 'test', 'Tolstoy, Leo, graf': 'test', 'Baldwin, James': 'test', 'Peck, Harry Thurston': 'test'}\n"
          ]
        }
      ],
      "source": [
        "print(params_scores.iloc[3,0])"
      ]
    },
    {
      "cell_type": "markdown",
      "metadata": {},
      "source": [
        "Choose the Split"
      ]
    },
    {
      "cell_type": "code",
      "execution_count": 48,
      "metadata": {
        "id": "FJwbHwZoQKQm"
      },
      "outputs": [],
      "source": [
        "optimal_dict = {'Westlake, D    onald E.': 'train', 'Christie, Agatha': 'train', 'Milne, A. A. (Alan Alexander)': 'val', 'Austen, Jane': 'val', 'Alcott, Louisa May': 'train', 'Verne, Jules': 'train', 'Verlaine, Paul': 'train', 'Sterling, George': 'train', 'Nerval, Gérard de': 'train', 'Berryman, John': 'val', 'Woolf, Leonard': 'train', 'Kafka, Franz': 'val', 'Zweig, Stefan': 'train', 'Woolf, Virginia': 'val', 'Baldwin, James': 'val', 'Dostoyevsky, Fyodor': 'train', 'London, Jack': 'train', 'Tolstoy, Leo, graf': 'train', 'Potter, Beatrix': 'test', 'Nietzsche, Friedrich Wilhelm': 'test'}"
      ]
    },
    {
      "cell_type": "markdown",
      "metadata": {
        "id": "7DJwVf9BdbOt"
      },
      "source": [
        "Split the Data and Inspect"
      ]
    },
    {
      "cell_type": "code",
      "execution_count": 86,
      "metadata": {
        "colab": {
          "base_uri": "https://localhost:8080/"
        },
        "id": "qa_3nM8zXw3t",
        "outputId": "1b74f397-97f6-471c-d63d-9a7adfb906e4"
      },
      "outputs": [
        {
          "name": "stdout",
          "output_type": "stream",
          "text": [
            "data target dist =\n",
            " 0    0.68855\n",
            "1    0.31145\n",
            "Name: Target, dtype: float64\n",
            "train val test ratio =  0.6930091185408228 0.16717325227958446 0.1398176291792888\n",
            "train val test target dist =  1    0.54386\n",
            "0    0.45614\n",
            "Name: Target, dtype: float64 0    0.527273\n",
            "1    0.472727\n",
            "Name: Target, dtype: float64 1    0.521739\n",
            "0    0.478261\n",
            "Name: Target, dtype: float64\n",
            "X_train shape = (228,)\n",
            " X_val shape = (55,)\n",
            " X_test shape = (46,)\n",
            " y_train shape = (228,)\n",
            " y_val shape = (55,)\n",
            " y_test shape = (46,)\n",
            " train shape = (228, 7)\n",
            " test shape = (46, 7)\n"
          ]
        },
        {
          "data": {
            "text/plain": [
              "(1    0.54386\n",
              " 0    0.45614\n",
              " Name: Target, dtype: float64,\n",
              " 0    0.527273\n",
              " 1    0.472727\n",
              " Name: Target, dtype: float64,\n",
              " 1    0.521739\n",
              " 0    0.478261\n",
              " Name: Target, dtype: float64)"
            ]
          },
          "execution_count": 86,
          "metadata": {},
          "output_type": "execute_result"
        }
      ],
      "source": [
        "data[\"Split\"] = data[\"Author\"].map(optimal_dict)\n",
        "df = data.copy()\n",
        "train, val, test = df[df[\"Split\"] == \"train\"], df[df[\"Split\"] == \"val\"] ,df[df[\"Split\"] == \"test\"]\n",
        "X_train, X_val, X_test = train[\"Text\"].values, val[\"Text\"].values, test[\"Text\"].values\n",
        "y_train, y_val, y_test = train[\"Target\"].values, val[\"Target\"].values, test[\"Target\"].values\n",
        "print_split_stats(X_train, X_val,X_test , y_train, y_val, y_test, train, val, test)"
      ]
    },
    {
      "cell_type": "markdown",
      "metadata": {},
      "source": [
        "Get Mini-Chunks"
      ]
    },
    {
      "cell_type": "code",
      "execution_count": 77,
      "metadata": {},
      "outputs": [
        {
          "name": "stdout",
          "output_type": "stream",
          "text": [
            "(348655, 5)\n"
          ]
        }
      ],
      "source": [
        "chunk_size = 5  # Set the number of sentences per chunk (you can adjust this)\n",
        "overlap = 0  # You can adjust the overlap if needed\n",
        "chunks = []\n",
        "\n",
        "for i in range(len(data)):\n",
        "    text = data.loc[i, \"Text\"]\n",
        "    author = data.loc[i, \"Author\"]\n",
        "    work = data.loc[i, \"Work\"]\n",
        "    target = data.loc[i, \"Target\"]\n",
        "    split = data.loc[i, \"Split\"]\n",
        "\n",
        "    sentences = sent_tokenize(text)\n",
        "    for i in range(0, len(sentences), chunk_size - overlap):\n",
        "        chunk = ' '.join(sentences[i:i + chunk_size])\n",
        "        chunks.append([author, work, chunk, target, split])\n",
        "\n",
        "df = pd.DataFrame(chunks, columns=[\"Author\", \"Work\", \"Text\", \"Target\", \"Split\"])\n",
        "print(df.shape)\n"
      ]
    },
    {
      "cell_type": "code",
      "execution_count": 51,
      "metadata": {},
      "outputs": [],
      "source": [
        "del chunks"
      ]
    },
    {
      "cell_type": "code",
      "execution_count": 78,
      "metadata": {},
      "outputs": [],
      "source": [
        "from transformers import AutoTokenizer\n",
        "from transformers import AutoModel\n",
        "\n",
        "model_ckpt = \"distilbert-base-uncased\"\n",
        "device = torch.device(\"cuda\" if torch.cuda.is_available() else \"cpu\")\n",
        "model = AutoModel.from_pretrained(model_ckpt)\n",
        "tokenizer = AutoTokenizer.from_pretrained(\"distilbert-base-uncased\")"
      ]
    },
    {
      "cell_type": "code",
      "execution_count": 79,
      "metadata": {},
      "outputs": [],
      "source": [
        "def get_distilbert_embeddings(chunk_text,tokenizer,model,max_length = 256):\n",
        "    device = torch.device(\"cuda\" if torch.cuda.is_available() else \"cpu\")\n",
        "    assert torch.cuda.is_available()\n",
        "    # Tokenize the text and obtain embeddings\n",
        "    inputs = tokenizer(chunk_text, return_tensors='pt', padding=True, truncation=True, max_length=max_length)\n",
        "    # Send to device\n",
        "    model.to(device)\n",
        "    inputs = {k:v.to(device) for k,v in inputs.items()}\n",
        "    with torch.no_grad():\n",
        "        outputs = model(**inputs)\n",
        "    # Retrieve the embeddings from the model's output\n",
        "    embeddings = outputs.last_hidden_state[:, 0]\n",
        "    return embeddings.cpu().numpy()"
      ]
    },
    {
      "cell_type": "markdown",
      "metadata": {},
      "source": [
        "Get Embeddings"
      ]
    },
    {
      "cell_type": "code",
      "execution_count": 137,
      "metadata": {},
      "outputs": [
        {
          "name": "stdout",
          "output_type": "stream",
          "text": [
            "CPU times: total: 1h 29min 31s\n",
            "Wall time: 1h 33min 13s\n"
          ]
        }
      ],
      "source": [
        "#%%time\n",
        "#df[\"Embedding\"] = df[\"Text\"].apply(lambda x: get_distilbert_embeddings(x,tokenizer,model))"
      ]
    },
    {
      "cell_type": "markdown",
      "metadata": {},
      "source": [
        "Save Embeddings"
      ]
    },
    {
      "cell_type": "code",
      "execution_count": 138,
      "metadata": {},
      "outputs": [
        {
          "name": "stdout",
          "output_type": "stream",
          "text": [
            "(348655, 768)\n"
          ]
        }
      ],
      "source": [
        "#embeddings = np.vstack(df['Embedding'].apply(lambda x: x[0]))\n",
        "#print(embeddings.shape)\n",
        "#np.save(\"embeddings.npy\", embeddings)"
      ]
    },
    {
      "cell_type": "markdown",
      "metadata": {},
      "source": [
        "Load Embeddings"
      ]
    },
    {
      "cell_type": "code",
      "execution_count": 87,
      "metadata": {},
      "outputs": [],
      "source": [
        "#df = pd.read_csv(\"df.csv\")\n",
        "embeddings = np.load(\"embeddings.npy\")\n",
        "df[\"Embedding\"] = list(embeddings)"
      ]
    },
    {
      "cell_type": "markdown",
      "metadata": {},
      "source": [
        "Author"
      ]
    },
    {
      "cell_type": "markdown",
      "metadata": {},
      "source": [
        "PCA Author"
      ]
    },
    {
      "cell_type": "code",
      "execution_count": 139,
      "metadata": {},
      "outputs": [
        {
          "data": {
            "image/png": "[encoded data removed]",
            "text/plain": [
              "<Figure size 800x600 with 1 Axes>"
            ]
          },
          "metadata": {},
          "output_type": "display_data"
        }
      ],
      "source": [
        "from sklearn.decomposition import PCA\n",
        "from sklearn.preprocessing import StandardScaler\n",
        "df_author = df.groupby(\"Author\").aggregate({\"Embedding\":\"mean\",\"Target\":\"mean\"})\n",
        "df_author[\"Target\"] = df_author[\"Target\"].astype(int)\n",
        "# Extract the embeddings from the DataFrame\n",
        "embeds = np.vstack(df_author['Embedding'])\n",
        "\n",
        "# Scale the data using StandardScaler\n",
        "scaler = StandardScaler()\n",
        "scaled_embeds = scaler.fit_transform(embeds)\n",
        "\n",
        "pca_model = PCA(n_components=2)\n",
        "pca_embeds = pca_model.fit_transform(scaled_embeds)\n",
        "\n",
        "# Add the PCA embeds back to the df_author DataFrame\n",
        "df_author['PCA_1'] = pca_embeds[:, 0]\n",
        "df_author['PCA_2'] = pca_embeds[:, 1]\n",
        "\n",
        "# Create a scatter plot with target as hue\n",
        "plt.figure(figsize=(8, 6))\n",
        "ax = sns.scatterplot(x='PCA_1', y='PCA_2', hue='Target', data=df_author, palette='viridis')\n",
        "\n",
        "# Label the points with author names\n",
        "for i in range(len(df_author)):\n",
        "    ax.text(df_author['PCA_1'][i], df_author['PCA_2'][i], df_author.index.to_series()[i], fontsize=6, ha='right', rotation=-40)\n",
        "\n",
        "plt.title(\"PCA Visualization with Target Classes\")\n",
        "plt.show()\n"
      ]
    },
    {
      "cell_type": "markdown",
      "metadata": {},
      "source": [
        "Deep Learning"
      ]
    },
    {
      "cell_type": "code",
      "execution_count": 88,
      "metadata": {},
      "outputs": [
        {
          "name": "stdout",
          "output_type": "stream",
          "text": [
            "data target dist =\n",
            " 0    0.68855\n",
            "1    0.31145\n",
            "Name: Target, dtype: float64\n",
            "train val test ratio =  0.7085960326003274 0.16915269875441843 0.12225126864523878\n",
            "train val test target dist =  1    0.53125\n",
            "0    0.46875\n",
            "Name: Target, dtype: float64 0    0.527273\n",
            "1    0.472727\n",
            "Name: Target, dtype: float64 1    0.603774\n",
            "0    0.396226\n",
            "Name: Target, dtype: float64\n",
            "X_train shape = (4608, 768)\n",
            " X_val shape = (1100, 768)\n",
            " X_test shape = (795, 768)\n",
            " y_train shape = (4608,)\n",
            " y_val shape = (1100,)\n",
            " y_test shape = (795,)\n",
            " train shape = (4608, 7)\n",
            " test shape = (795, 7)\n"
          ]
        },
        {
          "data": {
            "text/plain": [
              "(1    0.53125\n",
              " 0    0.46875\n",
              " Name: Target, dtype: float64,\n",
              " 0    0.527273\n",
              " 1    0.472727\n",
              " Name: Target, dtype: float64,\n",
              " 1    0.603774\n",
              " 0    0.396226\n",
              " Name: Target, dtype: float64)"
            ]
          },
          "execution_count": 88,
          "metadata": {},
          "output_type": "execute_result"
        }
      ],
      "source": [
        "new_df = df.groupby([\"Author\",\"Work\"]).head(20).reset_index()\n",
        "train, val,test = new_df[new_df[\"Split\"] == \"train\"], new_df[new_df[\"Split\"] == \"val\"],new_df[new_df[\"Split\"] == \"test\"]\n",
        "train_embeddings = embeddings[train.index]\n",
        "val_embeddings = embeddings[val.index]\n",
        "test_embeddings = embeddings[test.index]\n",
        "\n",
        "X_train, X_val, X_test = train_embeddings, val_embeddings, test_embeddings\n",
        "y_train, y_val, y_test = train[\"Target\"].values,  val[\"Target\"].values,test[\"Target\"].values\n",
        "print_split_stats(X_train,X_val ,X_test , y_train, y_val,y_test, train, val, test)"
      ]
    },
    {
      "cell_type": "code",
      "execution_count": 89,
      "metadata": {},
      "outputs": [
        {
          "name": "stdout",
          "output_type": "stream",
          "text": [
            "data target dist =\n",
            " 0    0.68855\n",
            "1    0.31145\n",
            "Name: Target, dtype: float64\n",
            "train val test ratio =  0.7085960326003274 0.16915269875441843 0.12225126864523878\n",
            "train val test target dist =  1    0.53125\n",
            "0    0.46875\n",
            "Name: Target, dtype: float64 0    0.527273\n",
            "1    0.472727\n",
            "Name: Target, dtype: float64 1    0.603774\n",
            "0    0.396226\n",
            "Name: Target, dtype: float64\n",
            "X_train shape = (4608, 768)\n",
            " X_val shape = (1100, 768)\n",
            " X_test shape = (795, 768)\n",
            " y_train shape = (4608,)\n",
            " y_val shape = (1100,)\n",
            " y_test shape = (795,)\n",
            " train shape = (4608, 7)\n",
            " test shape = (795, 7)\n",
            "Epoch [1/100] - Train Loss: 0.734284381252817\n",
            "Epoch [1/100] - Validation Loss: 0.7473288919223141\n",
            "Epoch [2/100] - Train Loss: 0.7947824365562863\n",
            "Epoch [2/100] - Validation Loss: 0.6847456318971961\n",
            "Epoch [3/100] - Train Loss: 0.7090836659901671\n",
            "Epoch [3/100] - Validation Loss: 0.6848509941762703\n",
            "Epoch [4/100] - Train Loss: 0.7045716523296304\n",
            "Epoch [4/100] - Validation Loss: 0.6831242884888885\n",
            "Epoch [5/100] - Train Loss: 0.6988792088296678\n",
            "Epoch [5/100] - Validation Loss: 0.6817728706749101\n",
            "Epoch [6/100] - Train Loss: 0.7088724885963731\n",
            "Epoch [6/100] - Validation Loss: 0.6804077693374811\n",
            "Epoch [7/100] - Train Loss: 0.7024997151974175\n",
            "Epoch [7/100] - Validation Loss: 0.6801075986434033\n",
            "Epoch [8/100] - Train Loss: 0.7078322635756599\n",
            "Epoch [8/100] - Validation Loss: 0.679548811910595\n",
            "Epoch [9/100] - Train Loss: 0.7024772026472621\n",
            "Epoch [9/100] - Validation Loss: 0.6785196985497842\n",
            "Epoch [10/100] - Train Loss: 0.6949918990333875\n",
            "Epoch [10/100] - Validation Loss: 0.6769784331302374\n",
            "Epoch [11/100] - Train Loss: 0.6877436124616199\n",
            "Epoch [11/100] - Validation Loss: 0.6749325633029727\n",
            "Epoch [12/100] - Train Loss: 0.6981832716200087\n",
            "Epoch [12/100] - Validation Loss: 0.673850367748515\n",
            "Epoch [13/100] - Train Loss: 0.6888307243999507\n",
            "Epoch [13/100] - Validation Loss: 0.6719614846346593\n",
            "Epoch [14/100] - Train Loss: 0.6808896840860447\n",
            "Epoch [14/100] - Validation Loss: 0.670908682685025\n",
            "Epoch [15/100] - Train Loss: 0.6881646420806646\n",
            "Epoch [15/100] - Validation Loss: 0.6683963690466176\n",
            "Epoch [16/100] - Train Loss: 0.677868262761169\n",
            "Epoch [16/100] - Validation Loss: 0.6678992067045475\n",
            "Epoch [17/100] - Train Loss: 0.6727410472101636\n",
            "Epoch [17/100] - Validation Loss: 0.6663938862917798\n",
            "Epoch [18/100] - Train Loss: 0.6808241682334079\n",
            "Epoch [18/100] - Validation Loss: 0.6645792739712937\n",
            "Epoch [19/100] - Train Loss: 0.6722991584489743\n",
            "Epoch [19/100] - Validation Loss: 0.6622246725199715\n",
            "Epoch [20/100] - Train Loss: 0.6689553031076988\n",
            "Epoch [20/100] - Validation Loss: 0.6608525020716722\n",
            "Epoch [21/100] - Train Loss: 0.6633147324124972\n",
            "Epoch [21/100] - Validation Loss: 0.6590790280255151\n",
            "Epoch [22/100] - Train Loss: 0.6653922630680932\n",
            "Epoch [22/100] - Validation Loss: 0.6592620543052365\n",
            "Epoch [23/100] - Train Loss: 0.6581744328141212\n",
            "Epoch [23/100] - Validation Loss: 0.6560494405863955\n",
            "Epoch [24/100] - Train Loss: 0.6513871544351181\n",
            "Epoch [24/100] - Validation Loss: 0.6578589422343395\n",
            "Epoch [25/100] - Train Loss: 0.6584381769514747\n",
            "Epoch [25/100] - Validation Loss: 0.6520602422082526\n",
            "Epoch [26/100] - Train Loss: 0.6425315137538645\n",
            "Epoch [26/100] - Validation Loss: 0.6509332588722159\n",
            "Epoch [27/100] - Train Loss: 0.645410592150357\n",
            "Epoch [27/100] - Validation Loss: 0.6508409406439033\n",
            "Epoch [28/100] - Train Loss: 0.6378195594168372\n",
            "Epoch [28/100] - Validation Loss: 0.6468856964774041\n",
            "Epoch [29/100] - Train Loss: 0.6315529930094878\n",
            "Epoch [29/100] - Validation Loss: 0.6455190658550892\n",
            "Epoch [30/100] - Train Loss: 0.6284526456147432\n",
            "Epoch [30/100] - Validation Loss: 0.6457244498370658\n",
            "Epoch [31/100] - Train Loss: 0.6287796024440063\n",
            "Epoch [31/100] - Validation Loss: 0.6449680600829089\n",
            "Epoch [32/100] - Train Loss: 0.6218762625422742\n",
            "Epoch [32/100] - Validation Loss: 0.6406275544829457\n",
            "Epoch [33/100] - Train Loss: 0.6244263460652696\n",
            "Epoch [33/100] - Validation Loss: 0.6432632625084618\n",
            "Epoch [34/100] - Train Loss: 0.6162742399093177\n",
            "Epoch [34/100] - Validation Loss: 0.6385232142021464\n",
            "Epoch [35/100] - Train Loss: 0.6092594735738304\n",
            "Epoch [35/100] - Validation Loss: 0.6371045436159731\n",
            "Epoch [36/100] - Train Loss: 0.6045402429170079\n",
            "Epoch [36/100] - Validation Loss: 0.6343855134060309\n",
            "Epoch [37/100] - Train Loss: 0.6025750947495302\n",
            "Epoch [37/100] - Validation Loss: 0.6344433597137853\n",
            "Epoch [38/100] - Train Loss: 0.5975131970933742\n",
            "Epoch [38/100] - Validation Loss: 0.6332485641733877\n",
            "Epoch [39/100] - Train Loss: 0.5946537511837151\n",
            "Epoch [39/100] - Validation Loss: 0.6316429291434633\n",
            "Epoch [40/100] - Train Loss: 0.5908279518803788\n",
            "Epoch [40/100] - Validation Loss: 0.6300673323000208\n",
            "Epoch [41/100] - Train Loss: 0.5853033420215878\n",
            "Epoch [41/100] - Validation Loss: 0.6390902646932053\n",
            "Epoch [42/100] - Train Loss: 0.5875519971466727\n",
            "Epoch [42/100] - Validation Loss: 0.628491955993764\n",
            "Epoch [43/100] - Train Loss: 0.580595027241442\n",
            "Epoch [43/100] - Validation Loss: 0.6280159558550739\n",
            "Epoch [44/100] - Train Loss: 0.5826336434628401\n",
            "Epoch [44/100] - Validation Loss: 0.6319150822485171\n",
            "Epoch [45/100] - Train Loss: 0.5769115714873705\n",
            "Epoch [45/100] - Validation Loss: 0.6242896684560649\n",
            "Epoch [46/100] - Train Loss: 0.5697383479111724\n",
            "Epoch [46/100] - Validation Loss: 0.634474666627706\n",
            "Epoch [47/100] - Train Loss: 0.5731590952620738\n",
            "Epoch [47/100] - Validation Loss: 0.6343570232373232\n",
            "Epoch [48/100] - Train Loss: 0.5707313408040338\n",
            "Epoch [48/100] - Validation Loss: 0.6232990631017588\n",
            "Epoch [49/100] - Train Loss: 0.5625846652934948\n",
            "Epoch [49/100] - Validation Loss: 0.6214899250421478\n",
            "Epoch [50/100] - Train Loss: 0.5594857790403895\n",
            "Epoch [50/100] - Validation Loss: 0.6210629118322611\n",
            "Epoch [51/100] - Train Loss: 0.5562490295722253\n",
            "Epoch [51/100] - Validation Loss: 0.6226278288006023\n",
            "Epoch [52/100] - Train Loss: 0.5602626136193672\n",
            "Epoch [52/100] - Validation Loss: 0.6274310588818743\n",
            "Epoch [53/100] - Train Loss: 0.5482342550013628\n",
            "Epoch [53/100] - Validation Loss: 0.6527786748731218\n",
            "Epoch [54/100] - Train Loss: 0.5633281107681493\n",
            "Epoch [54/100] - Validation Loss: 0.6216071256551693\n",
            "Epoch [55/100] - Train Loss: 0.5473226976270477\n",
            "Epoch [55/100] - Validation Loss: 0.6177627784847592\n",
            "Epoch [56/100] - Train Loss: 0.5449702183250338\n",
            "Epoch [56/100] - Validation Loss: 0.6181417490737147\n",
            "Epoch [57/100] - Train Loss: 0.5414405609481037\n",
            "Epoch [57/100] - Validation Loss: 0.6162797987443481\n",
            "Epoch [58/100] - Train Loss: 0.5382687317776598\n",
            "Epoch [58/100] - Validation Loss: 0.6164013564569027\n",
            "Epoch [59/100] - Train Loss: 0.5347359743641896\n",
            "Epoch [59/100] - Validation Loss: 0.616128718425489\n",
            "Epoch [60/100] - Train Loss: 0.5332081162681183\n",
            "Epoch [60/100] - Validation Loss: 0.6174940228444576\n",
            "Epoch [61/100] - Train Loss: 0.5308038125125071\n",
            "Epoch [61/100] - Validation Loss: 0.6160289985775377\n",
            "Epoch [62/100] - Train Loss: 0.5282854918752693\n",
            "Epoch [62/100] - Validation Loss: 0.6160319890277155\n",
            "Epoch [63/100] - Train Loss: 0.5261577710043639\n",
            "Epoch [63/100] - Validation Loss: 0.6160411396179308\n",
            "Epoch [64/100] - Train Loss: 0.5237635707793137\n",
            "Epoch [64/100] - Validation Loss: 0.6146767871702887\n",
            "Epoch [65/100] - Train Loss: 0.5207609312815799\n",
            "Epoch [65/100] - Validation Loss: 0.615046976292079\n",
            "Epoch [66/100] - Train Loss: 0.5188961815502908\n",
            "Epoch [66/100] - Validation Loss: 0.6152625909855838\n",
            "Epoch [67/100] - Train Loss: 0.5165139939377291\n",
            "Epoch [67/100] - Validation Loss: 0.6117319813778974\n",
            "Epoch [68/100] - Train Loss: 0.5141687758473886\n",
            "Epoch [68/100] - Validation Loss: 0.6141840296114676\n",
            "Epoch [69/100] - Train Loss: 0.5123866675938997\n",
            "Epoch [69/100] - Validation Loss: 0.6139688653587783\n",
            "Epoch [70/100] - Train Loss: 0.5101118981838226\n",
            "Epoch [70/100] - Validation Loss: 0.6142279037389917\n",
            "Epoch [71/100] - Train Loss: 0.5079646065262042\n",
            "Epoch [71/100] - Validation Loss: 0.6127178571036407\n",
            "Epoch [72/100] - Train Loss: 0.5054183099160178\n",
            "Epoch [72/100] - Validation Loss: 0.6132180716292708\n",
            "Epoch [73/100] - Train Loss: 0.5035566781233582\n",
            "Epoch [73/100] - Validation Loss: 0.6144486346397555\n",
            "Epoch [74/100] - Train Loss: 0.5017362642101943\n",
            "Epoch [74/100] - Validation Loss: 0.6138896265182666\n",
            "Epoch [75/100] - Train Loss: 0.4998722930645777\n",
            "Epoch [75/100] - Validation Loss: 0.613297577839189\n",
            "Epoch [76/100] - Train Loss: 0.49719093362283373\n",
            "Epoch [76/100] - Validation Loss: 0.6199585820929662\n",
            "Epoch [77/100] - Train Loss: 0.4994515906760676\n",
            "Epoch [77/100] - Validation Loss: 0.6132754240699684\n",
            "Epoch [78/100] - Train Loss: 0.49326250249416465\n",
            "Epoch [78/100] - Validation Loss: 0.6130731288858335\n",
            "Epoch [79/100] - Train Loss: 0.49185283872712815\n",
            "Epoch [79/100] - Validation Loss: 0.6132279958026259\n",
            "Epoch [80/100] - Train Loss: 0.4911483863575591\n",
            "Epoch [80/100] - Validation Loss: 0.6118676811439198\n",
            "Epoch [81/100] - Train Loss: 0.4877985092656066\n",
            "Epoch [81/100] - Validation Loss: 0.614031201599274\n",
            "Epoch [82/100] - Train Loss: 0.486491241841577\n",
            "Epoch [82/100] - Validation Loss: 0.6148706470199455\n",
            "Epoch [83/100] - Train Loss: 0.48461742031698424\n",
            "Epoch [83/100] - Validation Loss: 0.614690068362387\n",
            "Epoch [84/100] - Train Loss: 0.4828443423223992\n",
            "Epoch [84/100] - Validation Loss: 0.6134504522578559\n",
            "Epoch [85/100] - Train Loss: 0.4812700726195342\n",
            "Epoch [85/100] - Validation Loss: 0.6141716880440193\n",
            "Epoch [86/100] - Train Loss: 0.4792037236555997\n",
            "Epoch [86/100] - Validation Loss: 0.6127287962589468\n",
            "Epoch [87/100] - Train Loss: 0.47746421539017725\n",
            "Epoch [87/100] - Validation Loss: 0.6155861824733312\n",
            "Epoch [88/100] - Train Loss: 0.47587937912127626\n",
            "Epoch [88/100] - Validation Loss: 0.614091209001149\n",
            "Epoch [89/100] - Train Loss: 0.474179461132735\n",
            "Epoch [89/100] - Validation Loss: 0.6146923329131411\n",
            "Epoch [90/100] - Train Loss: 0.4719111183658242\n",
            "Epoch [90/100] - Validation Loss: 0.6151043312872614\n",
            "Epoch [91/100] - Train Loss: 0.4705496372577424\n",
            "Epoch [91/100] - Validation Loss: 0.6138894928335633\n",
            "Epoch [92/100] - Train Loss: 0.4686759187089693\n",
            "Epoch [92/100] - Validation Loss: 0.6140976122429876\n",
            "Epoch [93/100] - Train Loss: 0.4670499364535014\n",
            "Epoch [93/100] - Validation Loss: 0.6150057034815519\n",
            "Epoch [94/100] - Train Loss: 0.4645809515948511\n",
            "Epoch [94/100] - Validation Loss: 0.616665637917119\n",
            "Epoch [95/100] - Train Loss: 0.4631605254900124\n",
            "Epoch [95/100] - Validation Loss: 0.6162216348289866\n",
            "Epoch [96/100] - Train Loss: 0.46146438389809596\n",
            "Epoch [96/100] - Validation Loss: 0.6154043887325142\n",
            "Epoch [97/100] - Train Loss: 0.4604938626160017\n",
            "Epoch [97/100] - Validation Loss: 0.6152637055924411\n",
            "Epoch [98/100] - Train Loss: 0.4582016061111871\n",
            "Epoch [98/100] - Validation Loss: 0.6198831668904168\n",
            "Epoch [99/100] - Train Loss: 0.4571547168565707\n",
            "Epoch [99/100] - Validation Loss: 0.6157735926746758\n",
            "Epoch [100/100] - Train Loss: 0.45517836103681475\n",
            "Epoch [100/100] - Validation Loss: 0.6136587172729125\n"
          ]
        },
        {
          "data": {
            "image/png": "[encoded data removed]",
            "text/plain": [
              "<Figure size 640x480 with 1 Axes>"
            ]
          },
          "metadata": {},
          "output_type": "display_data"
        },
        {
          "name": "stdout",
          "output_type": "stream",
          "text": [
            "Accuracy: 0.60\n",
            "Precision: 0.73\n",
            "Recall: 0.54\n",
            "F1 Score: 0.62\n",
            "Cohen's Kappa: 0.22\n",
            "Matthew's Correlation Coefficient: 0.24\n",
            "ROC AUC Score: 0.62\n",
            "Classification Report:\n"
          ]
        },
        {
          "name": "stderr",
          "output_type": "stream",
          "text": [
            "\n",
            "A value is trying to be set on a copy of a slice from a DataFrame.\n",
            "Try using .loc[row_indexer,col_indexer] = value instead\n",
            "\n",
            "See the caveats in the documentation: https://pandas.pydata.org/pandas-docs/stable/user_guide/indexing.html#returning-a-view-versus-a-copy\n"
          ]
        },
        {
          "name": "stdout",
          "output_type": "stream",
          "text": [
            "              precision    recall  f1-score   support\n",
            "\n",
            "         0.0       0.50      0.70      0.58       315\n",
            "         1.0       0.73      0.54      0.62       480\n",
            "\n",
            "    accuracy                           0.60       795\n",
            "   macro avg       0.62      0.62      0.60       795\n",
            "weighted avg       0.64      0.60      0.61       795\n",
            "\n",
            "Accuracy: 0.63\n",
            "Precision: 0.73\n",
            "Recall: 0.46\n",
            "F1 Score: 0.56\n",
            "Cohen's Kappa: 0.27\n",
            "Matthew's Correlation Coefficient: 0.29\n",
            "ROC AUC Score: 0.64\n",
            "Classification Report:\n",
            "              precision    recall  f1-score   support\n",
            "\n",
            "         0.0       0.58      0.82      0.68        22\n",
            "         1.0       0.73      0.46      0.56        24\n",
            "\n",
            "    accuracy                           0.63        46\n",
            "   macro avg       0.66      0.64      0.62        46\n",
            "weighted avg       0.66      0.63      0.62        46\n",
            "\n"
          ]
        },
        {
          "data": {
            "image/png": "[encoded data removed]",
            "text/plain": [
              "<Figure size 640x480 with 2 Axes>"
            ]
          },
          "metadata": {},
          "output_type": "display_data"
        },
        {
          "data": {
            "image/png": "[encoded data removed]",
            "text/plain": [
              "<Figure size 640x480 with 2 Axes>"
            ]
          },
          "metadata": {},
          "output_type": "display_data"
        }
      ],
      "source": [
        "import torch\n",
        "import torch.nn as nn\n",
        "import torch.optim as optim\n",
        "import matplotlib.pyplot as plt\n",
        "train,val,test = new_df[new_df[\"Split\"] == \"train\"], new_df[new_df[\"Split\"] == \"val\"],new_df[new_df[\"Split\"] == \"test\"]\n",
        "\n",
        "train_embeddings = embeddings[train.index]\n",
        "val_embeddings = embeddings[val.index]\n",
        "test_embeddings = embeddings[test.index]\n",
        "\n",
        "X_train, X_val, X_test = train_embeddings, val_embeddings, test_embeddings\n",
        "y_train, y_val, y_test = train[\"Target\"].values,  val[\"Target\"].values,test[\"Target\"].values\n",
        "print_split_stats(X_train,X_val ,X_test , y_train, y_val,y_test, train, val, test)\n",
        "\n",
        "X_train = torch.tensor(X_train, dtype=torch.float32).cuda()\n",
        "X_val = torch.tensor(X_val, dtype=torch.float32).cuda()\n",
        "X_test = torch.tensor(X_test, dtype=torch.float32).cuda()\n",
        "\n",
        "y_train = torch.tensor(y_train, dtype=torch.float32).cuda()\n",
        "y_val = torch.tensor(y_val, dtype=torch.float32).cuda()\n",
        "y_test = torch.tensor(y_test, dtype=torch.float32).cuda()\n",
        "\n",
        "class BinaryClassificationModel(nn.Module):\n",
        "    def __init__(self, input_dim, hidden_dim, output_dim):\n",
        "        super(BinaryClassificationModel, self).__init__()\n",
        "        self.fc1 = nn.Linear(input_dim, hidden_dim)\n",
        "        self.fc2 = nn.Linear(hidden_dim, output_dim)\n",
        "        self.sigmoid = nn.Sigmoid()\n",
        "        self.dropout = nn.Dropout(0.01)\n",
        "\n",
        "    def forward(self, x):\n",
        "        x = self.fc1(x)\n",
        "        x = torch.relu(x)\n",
        "\n",
        "        x = self.dropout(x)\n",
        "\n",
        "        x = self.fc2(x)\n",
        "        x = self.sigmoid(x)\n",
        "        return x\n",
        "\n",
        "# Define the dimensions\n",
        "input_dim = 768  # Size of BERT embeddings\n",
        "hidden_dim = 256  # Adjust this as needed\n",
        "output_dim = 1  # Binary classification\n",
        "\n",
        "# Create an instance of the model\n",
        "model = BinaryClassificationModel(input_dim, hidden_dim, output_dim).cuda()\n",
        "\n",
        "# Loss and optimizer\n",
        "criterion = torch.nn.BCELoss()  # Binary Cross Entropy Loss\n",
        "optimizer = torch.optim.Adam(model.parameters(), lr=0.0001)\n",
        "\n",
        "# Training loop (you may need to adjust batch size and epochs)\n",
        "epochs = 100\n",
        "batch_size = 32\n",
        "\n",
        "# Lists to store losses for each epoch\n",
        "train_losses = []\n",
        "val_losses = []\n",
        "\n",
        "best_val_loss = float('inf')\n",
        "patience = 10\n",
        "early_stopping_counter = 0\n",
        "\n",
        "for epoch in range(epochs):\n",
        "    # Lists to store losses for each batch in the current epoch\n",
        "    train_batch_losses = []\n",
        "    \n",
        "    # Training loop\n",
        "    for i in range(0, len(X_train), batch_size):\n",
        "        inputs = X_train[i:i+batch_size]\n",
        "        labels = y_train[i:i+batch_size]\n",
        "\n",
        "        optimizer.zero_grad()\n",
        "        outputs = model(inputs)\n",
        "        loss = criterion(outputs.squeeze(), labels)\n",
        "        train_batch_losses.append(loss.item())  # Store the batch loss\n",
        "        loss.backward()\n",
        "        optimizer.step()\n",
        "    \n",
        "    # Calculate and store the average training loss for the epoch\n",
        "    avg_train_loss = sum(train_batch_losses) / len(train_batch_losses)\n",
        "    train_losses.append(avg_train_loss)\n",
        "    \n",
        "    print(f\"Epoch [{epoch+1}/{epochs}] - Train Loss: {avg_train_loss}\")\n",
        "    \n",
        "    # Validation loop\n",
        "    val_batch_losses = []\n",
        "    with torch.no_grad():\n",
        "        for i in range(0, len(X_val), batch_size):\n",
        "            val_inputs = X_val[i:i+batch_size]\n",
        "            val_labels = y_val[i:i+batch_size]\n",
        "\n",
        "            val_outputs = model(val_inputs)\n",
        "            val_loss = criterion(val_outputs.squeeze(), val_labels)\n",
        "            val_batch_losses.append(val_loss.item())  # Store the validation batch loss\n",
        "    \n",
        "    # Calculate and store the average validation loss for the epoch\n",
        "    avg_val_loss = sum(val_batch_losses) / (len(val_batch_losses) + 1e-10)\n",
        "    val_losses.append(avg_val_loss)\n",
        "    \n",
        "    print(f\"Epoch [{epoch+1}/{epochs}] - Validation Loss: {avg_val_loss}\")\n",
        "\n",
        "    if avg_val_loss < best_val_loss:\n",
        "        best_val_loss = avg_val_loss\n",
        "        torch.save(model.state_dict(), 'best_model.pth')\n",
        "        early_stopping_counter = 0\n",
        "    else:\n",
        "        early_stopping_counter += 1\n",
        "\n",
        "    if early_stopping_counter >= patience:\n",
        "        print(\"Early stopping. Loading best model.\")\n",
        "        model.load_state_dict(torch.load('best_model.pth'))\n",
        "        break\n",
        "\n",
        "# Plot the training and validation losses\n",
        "plt.plot(range(1, epoch+2), train_losses, label='Train Loss')\n",
        "plt.plot(range(1, epoch+2), val_losses, label='Validation Loss')\n",
        "plt.xlabel('Epoch')\n",
        "plt.ylabel('Average Loss')\n",
        "plt.title('Training and Validation Loss')\n",
        "plt.legend()\n",
        "plt.show()\n",
        "\n",
        "probabilities = model(X_test)\n",
        "probabilities = probabilities.cpu().detach().numpy()\n",
        "class_predictions = (probabilities >= 0.5)\n",
        "nn_preds = class_predictions*1.0\n",
        "test[\"NN Preds\"] = nn_preds\n",
        "test_vals = np.round(test.groupby([\"Author\",\"Work\"])[[\"Target\",\"NN Preds\"]].mean().values)\n",
        "y_true, pred = test_vals[:,0], test_vals[:,1]\n",
        "print_classification_metrics(y_test.cpu().detach().numpy(),nn_preds,[0,1])  \n",
        "print_classification_metrics(y_true,pred,[0,1])  "
      ]
    },
    {
      "cell_type": "markdown",
      "metadata": {},
      "source": [
        "Copying these to the main notebook"
      ]
    },
    {
      "cell_type": "code",
      "execution_count": 102,
      "metadata": {},
      "outputs": [
        {
          "data": {
            "text/plain": [
              "array([0., 0., 0., 1., 0., 0., 0., 0., 0., 1., 0., 0., 1., 0., 1., 0., 1.,\n",
              "       0., 0., 0., 0., 0., 1., 0., 0., 0., 0., 0., 0., 0., 0., 0., 0., 0.,\n",
              "       0., 0., 0., 0., 0., 0., 0., 0., 0., 0., 0., 0., 0., 0., 1., 1., 1.,\n",
              "       1., 1., 1., 1.])"
            ]
          },
          "execution_count": 102,
          "metadata": {},
          "output_type": "execute_result"
        }
      ],
      "source": [
        "pred_val"
      ]
    },
    {
      "cell_type": "code",
      "execution_count": 101,
      "metadata": {},
      "outputs": [
        {
          "data": {
            "text/plain": [
              "array([1., 1., 0., 0., 0., 0., 0., 0., 1., 1., 1., 1., 1., 1., 1., 0., 1.,\n",
              "       0., 0., 1., 0., 0., 0., 1., 0., 0., 0., 0., 1., 0., 0., 0., 1., 1.,\n",
              "       0., 0., 0., 0., 0., 0., 0., 0., 0., 0., 1., 0.])"
            ]
          },
          "execution_count": 101,
          "metadata": {},
          "output_type": "execute_result"
        }
      ],
      "source": [
        "pred_test"
      ]
    }
  ],
  "metadata": {
    "accelerator": "GPU",
    "colab": {
      "gpuType": "T4",
      "provenance": []
    },
    "kernelspec": {
      "display_name": "Python 3",
      "name": "python3"
    },
    "language_info": {
      "codemirror_mode": {
        "name": "ipython",
        "version": 3
      },
      "file_extension": ".py",
      "mimetype": "text/x-python",
      "name": "python",
      "nbconvert_exporter": "python",
      "pygments_lexer": "ipython3",
      "version": "3.9.16"
    }
  },
  "nbformat": 4,
  "nbformat_minor": 0
}
