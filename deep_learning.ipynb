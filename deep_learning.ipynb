{
  "cells": [
    {
      "cell_type": "code",
      "execution_count": 1,
      "metadata": {
        "id": "v1BpCQAIMYso"
      },
      "outputs": [
        {
          "name": "stderr",
          "output_type": "stream",
          "text": [
            "[nltk_data] Downloading package punkt to\n",
            "[nltk_data]     C:\\Users\\taylan\\AppData\\Roaming\\nltk_data...\n",
            "[nltk_data]   Package punkt is already up-to-date!\n",
            "[nltk_data] Downloading package stopwords to\n",
            "[nltk_data]     C:\\Users\\taylan\\AppData\\Roaming\\nltk_data...\n",
            "[nltk_data]   Package stopwords is already up-to-date!\n"
          ]
        }
      ],
      "source": [
        "import gutenbergpy.textget\n",
        "from catboost import CatBoostClassifier, Pool\n",
        "import shap\n",
        "from transformers import DistilBertTokenizer, DistilBertForSequenceClassification\n",
        "from torch.utils.data import DataLoader, TensorDataset\n",
        "import torch\n",
        "import torch\n",
        "from transformers import DistilBertForSequenceClassification, AdamW\n",
        "from torch.utils.data import DataLoader, RandomSampler, SequentialSampler\n",
        "from transformers import get_linear_schedule_with_warmup\n",
        "import pandas as pd\n",
        "import numpy as np\n",
        "import re\n",
        "import nltk\n",
        "from nltk.tokenize import word_tokenize, sent_tokenize\n",
        "from nltk.probability import FreqDist\n",
        "import matplotlib.pyplot as plt\n",
        "from wordcloud import WordCloud\n",
        "from nltk.corpus import stopwords\n",
        "nltk.download('punkt')  # Download necessary data\n",
        "nltk.download('stopwords')\n",
        "import string\n",
        "import re\n",
        "from nltk import FreqDist\n",
        "import pickle\n",
        "import matplotlib.pyplot as plt\n",
        "from sklearn.utils import resample\n",
        "from sklearn.feature_extraction.text import TfidfVectorizer\n",
        "from sklearn.model_selection import train_test_split\n",
        "from sklearn.linear_model import LogisticRegression\n",
        "from sklearn.ensemble import RandomForestClassifier\n",
        "from sklearn.metrics import (\n",
        "    accuracy_score,\n",
        "    precision_score,\n",
        "    recall_score,\n",
        "    f1_score,\n",
        "    classification_report,\n",
        "    confusion_matrix,\n",
        "    cohen_kappa_score,\n",
        "    matthews_corrcoef,\n",
        "    roc_auc_score,\n",
        "    ConfusionMatrixDisplay)\n",
        "import pandas as pd\n",
        "import numpy as np\n",
        "from sklearn.model_selection import train_test_split\n",
        "import torch\n",
        "import pandas as pd\n",
        "import re\n",
        "import nltk\n",
        "from nltk.tokenize import sent_tokenize\n",
        "from belt_nlp.bert_with_pooling import BertClassifierWithPooling\n",
        "import seaborn as sns\n",
        "import umap"
      ]
    },
    {
      "cell_type": "code",
      "execution_count": 4,
      "metadata": {
        "id": "Iu6117duModa"
      },
      "outputs": [],
      "source": [
        "def get_text(id):\n",
        "    # This gets a book by its gutenberg id number\n",
        "    raw_book = gutenbergpy.textget.get_text_by_id(id) # with headers\n",
        "    clean_book = gutenbergpy.textget.strip_headers(raw_book) # without headers\n",
        "    return clean_book, raw_book\n",
        "def clean_tokenize_filter(text):\n",
        "  text = text.decode('utf-8')\n",
        "  words = text.split()\n",
        "\n",
        "  # Clean and join the words while preserving spaces\n",
        "  # Clean and join the words while preserving spaces and apostrophes\n",
        "  cleaned_text = ' '.join([re.sub(r'[^a-zA-Z0-9\\s\\'\".?!,:;()-]', '', word) for word in words])\n",
        "  cleaned_text = cleaned_text.replace(\"'\",\"\")\n",
        "  cleaned_text = cleaned_text.lower()\n",
        "\n",
        "  # Tokenize the text\n",
        "  tokens = word_tokenize(cleaned_text)\n",
        "\n",
        "  stop_words = set(stopwords.words('english'))\n",
        "  filtered_tokens = [word for word in tokens if word.lower() not in stop_words]\n",
        "  filtered_tokens = [word for word in filtered_tokens if word not in string.punctuation]\n",
        "  filtered_tokens = [re.sub(r'[%s]+' % re.escape(string.punctuation), '', word) for word in filtered_tokens]\n",
        "  # Remove empty strings resulting from removing punctuation\n",
        "  filtered_tokens = [word for word in filtered_tokens if word and not word.isspace()]\n",
        "\n",
        "  # Join the filtered tokens back into a single cleaned_text\n",
        "  filtered_text = ' '.join(filtered_tokens)\n",
        "  return cleaned_text, tokens, filtered_tokens, filtered_text\n",
        "def encode_decode_text(text, target_encoding='utf-8'):\n",
        "    try:\n",
        "        # Attempt to decode the text using the target encoding\n",
        "        decoded_text = text.decode(target_encoding)\n",
        "\n",
        "        # If decoding is successful, return the decoded text\n",
        "        return decoded_text\n",
        "    except UnicodeDecodeError:\n",
        "        # If decoding fails, assume the text is already in the target encoding\n",
        "        return text.encode(target_encoding)\n",
        "def process_df(df,author_list):\n",
        "  processed_df = df[\n",
        "    (df[\"Audio\"] != \"Audio\\xa0\\xa0\") &\n",
        "    (df[\"Language\"] == \"English\") &\n",
        "    (df[\"Author\"].isin(author_list))\n",
        "    ].reset_index()\n",
        "  processed_df[\"Etext-No.\"] = processed_df[\"Etext-No.\"].astype(int)\n",
        "  processed_df[\"Author\"] = processed_df[\"Author\"].apply(lambda x: x.split(\", 1\")[0])\n",
        "  return processed_df\n",
        "\n",
        "def get_middle_section_by_pct(input_string, percentage):\n",
        "    words = input_string.split()\n",
        "    total_words = len(words)\n",
        "    middle_word_count = int(total_words * percentage)\n",
        "    start_word = max(0, (total_words - middle_word_count) // 2)\n",
        "    end_word = start_word + middle_word_count\n",
        "    middle_words = ' '.join(words[start_word:end_word])\n",
        "    return middle_words\n",
        "\n",
        "def get_middle_section_by_words(input_string, num_words):\n",
        "    words = input_string.split()\n",
        "    middle_index = len(words) // 2\n",
        "    return ' '.join(words[max(0, middle_index - num_words // 2):middle_index + num_words // 2])\n",
        "\n",
        "def prepare_dictionary(clean_df, chunk_pct = None):\n",
        "  dictionary = {}\n",
        "  for author in list(clean_df[\"Author\"].unique()):\n",
        "    dictionary[author] = {}\n",
        "  all_text = \" \".encode('utf-8')\n",
        "  for i,row in clean_df.loc[:].iterrows():\n",
        "    no = row[\"Etext-No.\"]\n",
        "    author, title = clean_df.loc[i,[\"Author\",\"Title\"]].values\n",
        "    try:\n",
        "      text, raw = get_text(no)\n",
        "      if chunk_pct:\n",
        "        try:\n",
        "          text = text[len(text)//2 - chunk_pct:len(text)//2 + chunk_pct]\n",
        "        except:\n",
        "          print(\"can't get chunk\")\n",
        "          pass\n",
        "      cleaned_text, tokens, filtered_tokens, filtered_text = clean_tokenize_filter(text)\n",
        "      print(author,title,\" successfull\")\n",
        "      dictionary[author][title] = {\"cleaned_text\":cleaned_text, \"tokens\": tokens, \"filtered_tokens\": filtered_tokens, \"filtered_text\": filtered_text}\n",
        "      all_text = all_text + text\n",
        "    except:\n",
        "      print(author,title,\" failed\")\n",
        "      pass\n",
        "  text = text.decode('utf-8')\n",
        "  return dictionary, all_text\n",
        "\n",
        "def plot_pie_chart(dictionary, title):\n",
        "  work_length_dict = {author: 0 for author in dictionary.keys()}\n",
        "  for author in dictionary.keys():\n",
        "    for work in dictionary[author].keys():\n",
        "      work_length_dict[author] += len(dictionary[author][work][\"filtered_text\"].split(\" \"))\n",
        "\n",
        "  df = pd.DataFrame.from_dict(work_length_dict, orient='index', columns=[\"Total Words\"])\n",
        "  ax = df.plot.pie(y=\"Total Words\", figsize=(8, 6), legend=False, autopct='%1.1f%%', title=title)\n",
        "  ax.set_ylabel('')\n",
        "\n",
        "def undersample_df(df, target_column_name):\n",
        "    majority_class = df[df[target_column_name] == 0]\n",
        "    minority_class = df[df[target_column_name] == 1]\n",
        "    minority_class_size = len(minority_class)\n",
        "    undersampled_majority = resample(majority_class, replace=False, n_samples=minority_class_size, random_state=42)\n",
        "    undersampled_df = pd.concat([undersampled_majority, minority_class])\n",
        "    undersampled_df = undersampled_df.sample(frac=1, random_state=42)\n",
        "\n",
        "    return undersampled_df\n",
        "\n",
        "def print_classification_metrics(y_test, predictions, labels):\n",
        "    # Calculate and print various classification metrics\n",
        "    accuracy = accuracy_score(y_test, predictions)\n",
        "    precision = precision_score(y_test, predictions)\n",
        "    recall = recall_score(y_test, predictions)\n",
        "    f1 = f1_score(y_test, predictions)\n",
        "    cohen_kappa = cohen_kappa_score(y_test, predictions)\n",
        "    matthews_corr = matthews_corrcoef(y_test, predictions)\n",
        "    roc_auc = roc_auc_score(y_test, predictions)\n",
        "    #cm = confusion_matrix(y_test, predictions, labels=labels)\n",
        "    #disp = ConfusionMatrixDisplay(confusion_matrix=cm,display_labels=labels)\n",
        "\n",
        "    disp = ConfusionMatrixDisplay.from_predictions(y_test, predictions)\n",
        "\n",
        "    print(f\"Accuracy: {accuracy:.2f}\")\n",
        "    print(f\"Precision: {precision:.2f}\")\n",
        "    print(f\"Recall: {recall:.2f}\")\n",
        "    print(f\"F1 Score: {f1:.2f}\")\n",
        "    print(f\"Cohen's Kappa: {cohen_kappa:.2f}\")\n",
        "    print(f\"Matthew's Correlation Coefficient: {matthews_corr:.2f}\")\n",
        "    print(f\"ROC AUC Score: {roc_auc:.2f}\")\n",
        "\n",
        "    # Print the classification report\n",
        "    print(\"Classification Report:\")\n",
        "    print(classification_report(y_test, predictions))\n",
        "\n",
        "    #disp.plot()\n",
        "\n",
        "def print_split_stats(X_train, X_val, X_test, y_train, y_val, y_test, train, val, test):\n",
        "  print(\"data target dist =\\n\",data[\"Target\"].value_counts()/sum(data[\"Target\"].value_counts()))\n",
        "  total_samples = train.shape[0] + test.shape[0] + val.shape[0] + 1e-10\n",
        "  print(\"train val test ratio = \",train.shape[0] / total_samples, val.shape[0] / total_samples, test.shape[0] / total_samples, )\n",
        "  print(\"train val test target dist = \",train[\"Target\"].value_counts()/sum(train[\"Target\"].value_counts()),val[\"Target\"].value_counts()/sum(val[\"Target\"].value_counts()),test[\"Target\"].value_counts()/sum(test[\"Target\"].value_counts()))\n",
        "  print(\"X_train shape = {}\\n X_val shape = {}\\n X_test shape = {}\\n y_train shape = {}\\n y_val shape = {}\\n y_test shape = {}\\n train shape = {}\\n test shape = {}\".format(X_train.shape,X_val .shape ,X_test .shape, y_train.shape, y_val.shape, y_test.shape, train.shape, test.shape))\n",
        "  return train[\"Target\"].value_counts()/sum(train[\"Target\"].value_counts()),val[\"Target\"].value_counts()/sum(val[\"Target\"].value_counts()),test[\"Target\"].value_counts()/sum(test[\"Target\"].value_counts())"
      ]
    },
    {
      "cell_type": "markdown",
      "metadata": {
        "id": "E_xhLkfV0ODA"
      },
      "source": [
        "Load"
      ]
    },
    {
      "cell_type": "code",
      "execution_count": 2,
      "metadata": {
        "id": "ozyF-1qte4vO"
      },
      "outputs": [],
      "source": [
        "with open(\"sad.pkl\", 'rb') as pickle_file:\n",
        "    sad_all_text, sad_dict = pickle.load(pickle_file)\n",
        "with open(\"happy.pkl\", 'rb') as pickle_file:\n",
        "    happy_all_text, happy_dict = pickle.load(pickle_file)"
      ]
    },
    {
      "cell_type": "markdown",
      "metadata": {
        "id": "eQHrkk0xMAyH"
      },
      "source": [
        "Process Data for ML"
      ]
    },
    {
      "cell_type": "code",
      "execution_count": 5,
      "metadata": {},
      "outputs": [
        {
          "name": "stdout",
          "output_type": "stream",
          "text": [
            "(655, 6)\n"
          ]
        }
      ],
      "source": [
        "# Read the dictionaries, append, create df\n",
        "texts = []\n",
        "for author in sad_dict.keys():\n",
        "  for work in sad_dict[author].keys():\n",
        "    texts.append([author,work,sad_dict[author][work][\"cleaned_text\"],1])\n",
        "for author in happy_dict.keys():\n",
        "  for work in happy_dict[author].keys():\n",
        "    texts.append([author,work,happy_dict[author][work][\"cleaned_text\"],0])\n",
        "data = pd.DataFrame(texts, columns = [\"Author\",\"Work\",\"Text\",\"Target\"])\n",
        "\n",
        "# Remove illustration phrases used for pictures\n",
        "data[\"Text\"] = data[\"Text\"].apply(lambda x: x.replace(\"illustration\",\"\"))\n",
        "\n",
        "# Get the 0.8 middle chunk of the text to avoid Project Gutenberg information\n",
        "data[\"Text\"] = data[\"Text\"].apply(lambda x : get_middle_section_by_pct(x,0.8))\n",
        "\n",
        "# Calculate Total Words and Chars\n",
        "data[\"Words\"] = data[\"Text\"].apply(lambda x : len(x.split(\" \")))\n",
        "data[\"Chars\"] = data[\"Text\"].apply(lambda x : len(x))\n",
        "\n",
        "print(data.shape)"
      ]
    },
    {
      "cell_type": "code",
      "execution_count": 6,
      "metadata": {},
      "outputs": [],
      "source": [
        "del texts"
      ]
    },
    {
      "cell_type": "code",
      "execution_count": 7,
      "metadata": {},
      "outputs": [],
      "source": [
        "del sad_all_text\n",
        "del happy_all_text"
      ]
    },
    {
      "cell_type": "code",
      "execution_count": 8,
      "metadata": {
        "colab": {
          "base_uri": "https://localhost:8080/",
          "height": 441
        },
        "id": "R_AfGhVDTKYA",
        "outputId": "8770ca15-6cb0-40c8-a463-15a1c2897e30"
      },
      "outputs": [
        {
          "name": "stderr",
          "output_type": "stream",
          "text": [
            "In a future version of pandas all arguments of concat except for the argument 'objs' will be keyword-only.\n",
            "In a future version of pandas all arguments of concat except for the argument 'objs' will be keyword-only.\n"
          ]
        }
      ],
      "source": [
        "df_author_grouped = pd.concat([data.groupby(\"Author\")[\"Text\"].sum().reset_index(),\n",
        "                               data.groupby(\"Author\")[\"Target\"].mean().astype(int).reset_index(drop = True),\n",
        "                               data.groupby(\"Author\")[\"Work\"].size().reset_index(drop = True),\n",
        "\n",
        "],1).rename(columns = {\"Work\":\"Works\"})\n",
        "df_author_grouped[\"Words\"] = df_author_grouped[\"Text\"].apply(lambda x : len(x.split(\" \")))\n",
        "df_author_grouped[\"Chars\"] = df_author_grouped[\"Text\"].apply(lambda x : len(x))\n",
        "df_author_grouped = df_author_grouped.sort_values([\"Target\",\"Words\"]).reset_index(drop = True)\n",
        "\n",
        "\n",
        "df_author_grouped = df_author_grouped[~df_author_grouped[\"Author\"].isin([\"Twain, Mark\",\"Dickens, Charles\"])].reset_index(drop = True)\n",
        "\n",
        "df_author_grouped\n",
        "author_info_cumulative = pd.concat([df_author_grouped,pd.concat([df_author_grouped[df_author_grouped[\"Target\"] == 0][::-1].cumsum(),df_author_grouped[df_author_grouped[\"Target\"] == 1][::-1].cumsum()])[[\"Words\"]]\n",
        "                                    ,pd.concat([df_author_grouped[df_author_grouped[\"Target\"] == 0][::-1].cumsum(),df_author_grouped[df_author_grouped[\"Target\"] == 1][::-1].cumsum()])[[\"Works\"]]\n",
        "                                    ],1)\n",
        "author_info_cumulative.columns = [\"Author\",\"Text\",\"Target\",\"Works\",\"Words\",\"Chars\",\"Words_cumsum\",\"Works_cumsum\"]\n",
        "author_info_cumulative[\"Word_cumsum_pct\"] = pd.concat([author_info_cumulative[author_info_cumulative[\"Target\"] == 0] [\"Words_cumsum\"] / author_info_cumulative.loc[author_info_cumulative[\"Target\"] == 0,\"Words_cumsum\"].max(),\n",
        "           author_info_cumulative[author_info_cumulative[\"Target\"] == 1] [\"Words_cumsum\"] / author_info_cumulative.loc[author_info_cumulative[\"Target\"] == 1,\"Words_cumsum\"].max() ] )"
      ]
    },
    {
      "cell_type": "markdown",
      "metadata": {
        "id": "Cu6sGHsip1OX"
      },
      "source": [
        "Decide the Splits"
      ]
    },
    {
      "cell_type": "markdown",
      "metadata": {},
      "source": [
        "Choose the Split"
      ]
    },
    {
      "cell_type": "code",
      "execution_count": 9,
      "metadata": {
        "id": "FJwbHwZoQKQm"
      },
      "outputs": [],
      "source": [
        "optimal_dict = {'Westlake, D    onald E.': 'train', 'Christie, Agatha': 'train', 'Milne, A. A. (Alan Alexander)': 'val', 'Austen, Jane': 'val', 'Alcott, Louisa May': 'train', 'Verne, Jules': 'train', 'Verlaine, Paul': 'train', 'Sterling, George': 'train', 'Nerval, Gérard de': 'train', 'Berryman, John': 'val', 'Woolf, Leonard': 'train', 'Kafka, Franz': 'val', 'Zweig, Stefan': 'train', 'Woolf, Virginia': 'val', 'Baldwin, James': 'val', 'Dostoyevsky, Fyodor': 'train', 'London, Jack': 'train', 'Tolstoy, Leo, graf': 'train', 'Potter, Beatrix': 'test', 'Nietzsche, Friedrich Wilhelm': 'test'}"
      ]
    },
    {
      "cell_type": "markdown",
      "metadata": {
        "id": "7DJwVf9BdbOt"
      },
      "source": [
        "Split the Data and Inspect"
      ]
    },
    {
      "cell_type": "code",
      "execution_count": 10,
      "metadata": {
        "colab": {
          "base_uri": "https://localhost:8080/"
        },
        "id": "qa_3nM8zXw3t",
        "outputId": "1b74f397-97f6-471c-d63d-9a7adfb906e4"
      },
      "outputs": [
        {
          "name": "stdout",
          "output_type": "stream",
          "text": [
            "data target dist =\n",
            " 0    0.68855\n",
            "1    0.31145\n",
            "Name: Target, dtype: float64\n",
            "train val test ratio =  0.6930091185408228 0.16717325227958446 0.1398176291792888\n",
            "train val test target dist =  1    0.54386\n",
            "0    0.45614\n",
            "Name: Target, dtype: float64 0    0.527273\n",
            "1    0.472727\n",
            "Name: Target, dtype: float64 1    0.521739\n",
            "0    0.478261\n",
            "Name: Target, dtype: float64\n",
            "X_train shape = (228,)\n",
            " X_val shape = (55,)\n",
            " X_test shape = (46,)\n",
            " y_train shape = (228,)\n",
            " y_val shape = (55,)\n",
            " y_test shape = (46,)\n",
            " train shape = (228, 7)\n",
            " test shape = (46, 7)\n"
          ]
        },
        {
          "data": {
            "text/plain": [
              "(1    0.54386\n",
              " 0    0.45614\n",
              " Name: Target, dtype: float64,\n",
              " 0    0.527273\n",
              " 1    0.472727\n",
              " Name: Target, dtype: float64,\n",
              " 1    0.521739\n",
              " 0    0.478261\n",
              " Name: Target, dtype: float64)"
            ]
          },
          "execution_count": 10,
          "metadata": {},
          "output_type": "execute_result"
        }
      ],
      "source": [
        "data[\"Split\"] = data[\"Author\"].map(optimal_dict)\n",
        "df = data.copy()\n",
        "train, val, test = df[df[\"Split\"] == \"train\"], df[df[\"Split\"] == \"val\"] ,df[df[\"Split\"] == \"test\"]\n",
        "X_train, X_val, X_test = train[\"Text\"].values, val[\"Text\"].values, test[\"Text\"].values\n",
        "y_train, y_val, y_test = train[\"Target\"].values, val[\"Target\"].values, test[\"Target\"].values\n",
        "print_split_stats(X_train, X_val,X_test , y_train, y_val, y_test, train, val, test)"
      ]
    },
    {
      "cell_type": "markdown",
      "metadata": {},
      "source": [
        "Get Mini-Chunks"
      ]
    },
    {
      "cell_type": "code",
      "execution_count": 26,
      "metadata": {},
      "outputs": [
        {
          "name": "stdout",
          "output_type": "stream",
          "text": [
            "(348655, 5)\n"
          ]
        }
      ],
      "source": [
        "chunk_size = 5  # Set the number of sentences per chunk (you can adjust this)\n",
        "overlap = 0  # You can adjust the overlap if needed\n",
        "chunks = []\n",
        "\n",
        "for i in range(len(data)):\n",
        "    text = data.loc[i, \"Text\"]\n",
        "    author = data.loc[i, \"Author\"]\n",
        "    work = data.loc[i, \"Work\"]\n",
        "    target = data.loc[i, \"Target\"]\n",
        "    split = data.loc[i, \"Split\"]\n",
        "\n",
        "    sentences = sent_tokenize(text)\n",
        "    for i in range(0, len(sentences), chunk_size - overlap):\n",
        "        chunk = ' '.join(sentences[i:i + chunk_size])\n",
        "        chunks.append([author, work, chunk, target, split])\n",
        "\n",
        "df = pd.DataFrame(chunks, columns=[\"Author\", \"Work\", \"Text\", \"Target\", \"Split\"])\n",
        "print(df.shape)\n"
      ]
    },
    {
      "cell_type": "code",
      "execution_count": 27,
      "metadata": {},
      "outputs": [],
      "source": [
        "del chunks"
      ]
    },
    {
      "cell_type": "code",
      "execution_count": 13,
      "metadata": {},
      "outputs": [],
      "source": [
        "from transformers import AutoTokenizer\n",
        "from transformers import AutoModel\n",
        "\n",
        "model_ckpt = \"distilbert-base-uncased\"\n",
        "device = torch.device(\"cuda\" if torch.cuda.is_available() else \"cpu\")\n",
        "model = AutoModel.from_pretrained(model_ckpt)\n",
        "tokenizer = AutoTokenizer.from_pretrained(\"distilbert-base-uncased\")"
      ]
    },
    {
      "cell_type": "code",
      "execution_count": 14,
      "metadata": {},
      "outputs": [],
      "source": [
        "def get_distilbert_embeddings(chunk_text,tokenizer,model,max_length = 256):\n",
        "    device = torch.device(\"cuda\" if torch.cuda.is_available() else \"cpu\")\n",
        "    assert torch.cuda.is_available()\n",
        "    # Tokenize the text and obtain embeddings\n",
        "    inputs = tokenizer(chunk_text, return_tensors='pt', padding=True, truncation=True, max_length=max_length)\n",
        "    # Send to device\n",
        "    model.to(device)\n",
        "    inputs = {k:v.to(device) for k,v in inputs.items()}\n",
        "    with torch.no_grad():\n",
        "        outputs = model(**inputs)\n",
        "    # Retrieve the embeddings from the model's output\n",
        "    embeddings = outputs.last_hidden_state[:, 0]\n",
        "    return embeddings.cpu().numpy()"
      ]
    },
    {
      "cell_type": "markdown",
      "metadata": {},
      "source": [
        "Get Embeddings, takes 90 mins on GPU"
      ]
    },
    {
      "cell_type": "code",
      "execution_count": null,
      "metadata": {},
      "outputs": [],
      "source": [
        "%%time\n",
        "df[\"Embedding\"] = df[\"Text\"].apply(lambda x: get_distilbert_embeddings(x,tokenizer,model))"
      ]
    },
    {
      "cell_type": "markdown",
      "metadata": {},
      "source": [
        "Save Embeddings"
      ]
    },
    {
      "cell_type": "code",
      "execution_count": 138,
      "metadata": {},
      "outputs": [
        {
          "name": "stdout",
          "output_type": "stream",
          "text": [
            "(348655, 768)\n"
          ]
        }
      ],
      "source": [
        "#embeddings = np.vstack(df['Embedding'].apply(lambda x: x[0]))\n",
        "#print(embeddings.shape)\n",
        "#np.save(\"embeddings.npy\", embeddings)"
      ]
    },
    {
      "cell_type": "markdown",
      "metadata": {},
      "source": [
        "Load Embeddings"
      ]
    },
    {
      "cell_type": "code",
      "execution_count": 28,
      "metadata": {},
      "outputs": [],
      "source": [
        "#df = pd.read_csv(\"df.csv\")\n",
        "#embeddings = np.load(\"embeddings.npy\")\n",
        "#df[\"Embedding\"] = list(embeddings)"
      ]
    },
    {
      "cell_type": "markdown",
      "metadata": {},
      "source": [
        "Author"
      ]
    },
    {
      "cell_type": "markdown",
      "metadata": {},
      "source": [
        "PCA Author"
      ]
    },
    {
      "cell_type": "code",
      "execution_count": 29,
      "metadata": {},
      "outputs": [
        {
          "data": {
            "image/png": "[encoded data removed]",
            "text/plain": [
              "<Figure size 800x600 with 1 Axes>"
            ]
          },
          "metadata": {},
          "output_type": "display_data"
        }
      ],
      "source": [
        "from sklearn.decomposition import PCA\n",
        "from sklearn.preprocessing import StandardScaler\n",
        "df_author = df.groupby(\"Author\").aggregate({\"Embedding\":\"mean\",\"Target\":\"mean\"})\n",
        "df_author[\"Target\"] = df_author[\"Target\"].astype(int)\n",
        "# Extract the embeddings from the DataFrame\n",
        "embeds = np.vstack(df_author['Embedding'])\n",
        "\n",
        "# Scale the data using StandardScaler\n",
        "scaler = StandardScaler()\n",
        "scaled_embeds = scaler.fit_transform(embeds)\n",
        "\n",
        "pca_model = PCA(n_components=2)\n",
        "pca_embeds = pca_model.fit_transform(scaled_embeds)\n",
        "\n",
        "# Add the PCA embeds back to the df_author DataFrame\n",
        "df_author['PCA_1'] = pca_embeds[:, 0]\n",
        "df_author['PCA_2'] = pca_embeds[:, 1]\n",
        "\n",
        "# Create a scatter plot with target as hue\n",
        "plt.figure(figsize=(8, 6))\n",
        "ax = sns.scatterplot(x='PCA_1', y='PCA_2', hue='Target', data=df_author, palette='viridis')\n",
        "\n",
        "# Label the points with author names\n",
        "for i in range(len(df_author)):\n",
        "    ax.text(df_author['PCA_1'][i], df_author['PCA_2'][i], df_author.index.to_series()[i], fontsize=6, ha='right', rotation=-40)\n",
        "\n",
        "plt.title(\"PCA Visualization with Target Classes\")\n",
        "plt.show()\n"
      ]
    },
    {
      "cell_type": "markdown",
      "metadata": {},
      "source": [
        "Deep Learning"
      ]
    },
    {
      "cell_type": "code",
      "execution_count": 30,
      "metadata": {},
      "outputs": [
        {
          "name": "stdout",
          "output_type": "stream",
          "text": [
            "data target dist =\n",
            " 0    0.68855\n",
            "1    0.31145\n",
            "Name: Target, dtype: float64\n",
            "train val test ratio =  0.7049665265452171 0.17125953604234515 0.12377393741242217\n",
            "train val test target dist =  1    0.540636\n",
            "0    0.459364\n",
            "Name: Target, dtype: float64 0    0.527273\n",
            "1    0.472727\n",
            "Name: Target, dtype: float64 1    0.603774\n",
            "0    0.396226\n",
            "Name: Target, dtype: float64\n",
            "X_train shape = (4528, 768)\n",
            " X_val shape = (1100, 768)\n",
            " X_test shape = (795, 768)\n",
            " y_train shape = (4528,)\n",
            " y_val shape = (1100,)\n",
            " y_test shape = (795,)\n",
            " train shape = (4528, 7)\n",
            " test shape = (795, 7)\n"
          ]
        },
        {
          "data": {
            "text/plain": [
              "(1    0.540636\n",
              " 0    0.459364\n",
              " Name: Target, dtype: float64,\n",
              " 0    0.527273\n",
              " 1    0.472727\n",
              " Name: Target, dtype: float64,\n",
              " 1    0.603774\n",
              " 0    0.396226\n",
              " Name: Target, dtype: float64)"
            ]
          },
          "execution_count": 30,
          "metadata": {},
          "output_type": "execute_result"
        }
      ],
      "source": [
        "new_df = df.groupby([\"Author\",\"Work\"]).head(20).reset_index()\n",
        "train, val,test = new_df[new_df[\"Split\"] == \"train\"], new_df[new_df[\"Split\"] == \"val\"],new_df[new_df[\"Split\"] == \"test\"]\n",
        "embeddings = np.vstack(df['Embedding'])\n",
        "train_embeddings = embeddings[train.index]\n",
        "val_embeddings = embeddings[val.index]\n",
        "test_embeddings = embeddings[test.index]\n",
        "\n",
        "X_train, X_val, X_test = train_embeddings, val_embeddings, test_embeddings\n",
        "y_train, y_val, y_test = train[\"Target\"].values,  val[\"Target\"].values,test[\"Target\"].values\n",
        "print_split_stats(X_train,X_val ,X_test , y_train, y_val,y_test, train, val, test)"
      ]
    },
    {
      "cell_type": "code",
      "execution_count": 31,
      "metadata": {},
      "outputs": [
        {
          "name": "stdout",
          "output_type": "stream",
          "text": [
            "data target dist =\n",
            " 0    0.68855\n",
            "1    0.31145\n",
            "Name: Target, dtype: float64\n",
            "train val test ratio =  0.7049665265452171 0.17125953604234515 0.12377393741242217\n",
            "train val test target dist =  1    0.540636\n",
            "0    0.459364\n",
            "Name: Target, dtype: float64 0    0.527273\n",
            "1    0.472727\n",
            "Name: Target, dtype: float64 1    0.603774\n",
            "0    0.396226\n",
            "Name: Target, dtype: float64\n",
            "X_train shape = (4528, 768)\n",
            " X_val shape = (1100, 768)\n",
            " X_test shape = (795, 768)\n",
            " y_train shape = (4528,)\n",
            " y_val shape = (1100,)\n",
            " y_test shape = (795,)\n",
            " train shape = (4528, 7)\n",
            " test shape = (795, 7)\n",
            "Epoch [1/100] - Train Loss: 0.7256295811778433\n",
            "Epoch [1/100] - Validation Loss: 0.8163190211545236\n",
            "Epoch [2/100] - Train Loss: 0.8275982930626667\n",
            "Epoch [2/100] - Validation Loss: 0.6861045462724973\n",
            "Epoch [3/100] - Train Loss: 0.7007674113125868\n",
            "Epoch [3/100] - Validation Loss: 0.6837390797459276\n",
            "Epoch [4/100] - Train Loss: 0.7189036542680901\n",
            "Epoch [4/100] - Validation Loss: 0.6801349520663856\n",
            "Epoch [5/100] - Train Loss: 0.7127668895352055\n",
            "Epoch [5/100] - Validation Loss: 0.6824214032698616\n",
            "Epoch [6/100] - Train Loss: 0.6973169469077822\n",
            "Epoch [6/100] - Validation Loss: 0.6771058372069495\n",
            "Epoch [7/100] - Train Loss: 0.700867546905934\n",
            "Epoch [7/100] - Validation Loss: 0.6755346604736645\n",
            "Epoch [8/100] - Train Loss: 0.7075359519098846\n",
            "Epoch [8/100] - Validation Loss: 0.6736267362302879\n",
            "Epoch [9/100] - Train Loss: 0.6947362229857647\n",
            "Epoch [9/100] - Validation Loss: 0.6734022310782675\n",
            "Epoch [10/100] - Train Loss: 0.6857343154474044\n",
            "Epoch [10/100] - Validation Loss: 0.6717276300683583\n",
            "Epoch [11/100] - Train Loss: 0.701151471322691\n",
            "Epoch [11/100] - Validation Loss: 0.6695492267589512\n",
            "Epoch [12/100] - Train Loss: 0.6873203165514369\n",
            "Epoch [12/100] - Validation Loss: 0.6684849670936013\n",
            "Epoch [13/100] - Train Loss: 0.6820094241222865\n",
            "Epoch [13/100] - Validation Loss: 0.667083215711595\n",
            "Epoch [14/100] - Train Loss: 0.6782891301202102\n",
            "Epoch [14/100] - Validation Loss: 0.6651381952403002\n",
            "Epoch [15/100] - Train Loss: 0.6795533519815391\n",
            "Epoch [15/100] - Validation Loss: 0.6632765173893097\n",
            "Epoch [16/100] - Train Loss: 0.6757162408509725\n",
            "Epoch [16/100] - Validation Loss: 0.6618992839521842\n",
            "Epoch [17/100] - Train Loss: 0.6709974953826044\n",
            "Epoch [17/100] - Validation Loss: 0.6601918833577503\n",
            "Epoch [18/100] - Train Loss: 0.6716301443291383\n",
            "Epoch [18/100] - Validation Loss: 0.6583402557013639\n",
            "Epoch [19/100] - Train Loss: 0.6662852321292313\n",
            "Epoch [19/100] - Validation Loss: 0.6580870602793283\n",
            "Epoch [20/100] - Train Loss: 0.6730134430485712\n",
            "Epoch [20/100] - Validation Loss: 0.6555788789457936\n",
            "Epoch [21/100] - Train Loss: 0.6589713323284203\n",
            "Epoch [21/100] - Validation Loss: 0.6547155363200419\n",
            "Epoch [22/100] - Train Loss: 0.6604527020958108\n",
            "Epoch [22/100] - Validation Loss: 0.6526714742165037\n",
            "Epoch [23/100] - Train Loss: 0.6539936019501216\n",
            "Epoch [23/100] - Validation Loss: 0.6509910472783154\n",
            "Epoch [24/100] - Train Loss: 0.6580387750561808\n",
            "Epoch [24/100] - Validation Loss: 0.6497596340501477\n",
            "Epoch [25/100] - Train Loss: 0.6508486787198295\n",
            "Epoch [25/100] - Validation Loss: 0.6495045483093778\n",
            "Epoch [26/100] - Train Loss: 0.6463281980282823\n",
            "Epoch [26/100] - Validation Loss: 0.6470162544913197\n",
            "Epoch [27/100] - Train Loss: 0.6225828263961094\n",
            "Epoch [27/100] - Validation Loss: 0.66844322851535\n",
            "Epoch [28/100] - Train Loss: 0.6787428018492712\n",
            "Epoch [28/100] - Validation Loss: 0.6430550089885867\n",
            "Epoch [29/100] - Train Loss: 0.6400672377834857\n",
            "Epoch [29/100] - Validation Loss: 0.6420739182385764\n",
            "Epoch [30/100] - Train Loss: 0.6301701523258653\n",
            "Epoch [30/100] - Validation Loss: 0.640027189252932\n",
            "Epoch [31/100] - Train Loss: 0.6298954727154382\n",
            "Epoch [31/100] - Validation Loss: 0.6398545358843913\n",
            "Epoch [32/100] - Train Loss: 0.625723306351984\n",
            "Epoch [32/100] - Validation Loss: 0.6368590916887888\n",
            "Epoch [33/100] - Train Loss: 0.6227722515312719\n",
            "Epoch [33/100] - Validation Loss: 0.6375819640481988\n",
            "Epoch [34/100] - Train Loss: 0.6189186764015279\n",
            "Epoch [34/100] - Validation Loss: 0.6352630180953812\n",
            "Epoch [35/100] - Train Loss: 0.6151523965765053\n",
            "Epoch [35/100] - Validation Loss: 0.6336101242456044\n",
            "Epoch [36/100] - Train Loss: 0.6133058673479188\n",
            "Epoch [36/100] - Validation Loss: 0.633489134480165\n",
            "Epoch [37/100] - Train Loss: 0.6082366284140399\n",
            "Epoch [37/100] - Validation Loss: 0.6309572628548169\n",
            "Epoch [38/100] - Train Loss: 0.6044054650504824\n",
            "Epoch [38/100] - Validation Loss: 0.629814903223418\n",
            "Epoch [39/100] - Train Loss: 0.6000057012892105\n",
            "Epoch [39/100] - Validation Loss: 0.627963158060732\n",
            "Epoch [40/100] - Train Loss: 0.59670436508219\n",
            "Epoch [40/100] - Validation Loss: 0.6277422581382254\n",
            "Epoch [41/100] - Train Loss: 0.5943192548420227\n",
            "Epoch [41/100] - Validation Loss: 0.6264971230693356\n",
            "Epoch [42/100] - Train Loss: 0.590790647278789\n",
            "Epoch [42/100] - Validation Loss: 0.6251276663353633\n",
            "Epoch [43/100] - Train Loss: 0.5868904635729925\n",
            "Epoch [43/100] - Validation Loss: 0.62506045528642\n",
            "Epoch [44/100] - Train Loss: 0.5837620161473751\n",
            "Epoch [44/100] - Validation Loss: 0.6237392689482715\n",
            "Epoch [45/100] - Train Loss: 0.5806070045161416\n",
            "Epoch [45/100] - Validation Loss: 0.624437197615338\n",
            "Epoch [46/100] - Train Loss: 0.5773310200114485\n",
            "Epoch [46/100] - Validation Loss: 0.6245819210988319\n",
            "Epoch [47/100] - Train Loss: 0.5752098078668957\n",
            "Epoch [47/100] - Validation Loss: 0.62188878314658\n",
            "Epoch [48/100] - Train Loss: 0.5716111907132075\n",
            "Epoch [48/100] - Validation Loss: 0.6212049416115587\n",
            "Epoch [49/100] - Train Loss: 0.5688044241511486\n",
            "Epoch [49/100] - Validation Loss: 0.6198437052095959\n",
            "Epoch [50/100] - Train Loss: 0.5655160896794896\n",
            "Epoch [50/100] - Validation Loss: 0.6188830571497537\n",
            "Epoch [51/100] - Train Loss: 0.5624933672517958\n",
            "Epoch [51/100] - Validation Loss: 0.6195005800025133\n",
            "Epoch [52/100] - Train Loss: 0.5602293767192414\n",
            "Epoch [52/100] - Validation Loss: 0.6184305582710035\n",
            "Epoch [53/100] - Train Loss: 0.557091716886826\n",
            "Epoch [53/100] - Validation Loss: 0.618069144655914\n",
            "Epoch [54/100] - Train Loss: 0.5545454526346334\n",
            "Epoch [54/100] - Validation Loss: 0.6177851991976389\n",
            "Epoch [55/100] - Train Loss: 0.5522372305498157\n",
            "Epoch [55/100] - Validation Loss: 0.6153791010362208\n",
            "Epoch [56/100] - Train Loss: 0.5495132691633533\n",
            "Epoch [56/100] - Validation Loss: 0.6157768317613719\n",
            "Epoch [57/100] - Train Loss: 0.5462320881935072\n",
            "Epoch [57/100] - Validation Loss: 0.615687369447039\n",
            "Epoch [58/100] - Train Loss: 0.543657640992126\n",
            "Epoch [58/100] - Validation Loss: 0.6160601722325025\n",
            "Epoch [59/100] - Train Loss: 0.5411181173379153\n",
            "Epoch [59/100] - Validation Loss: 0.6166827976686023\n",
            "Epoch [60/100] - Train Loss: 0.5389867060830895\n",
            "Epoch [60/100] - Validation Loss: 0.6155671319773661\n",
            "Epoch [61/100] - Train Loss: 0.5360747020114476\n",
            "Epoch [61/100] - Validation Loss: 0.6201014965754911\n",
            "Epoch [62/100] - Train Loss: 0.5345858653194048\n",
            "Epoch [62/100] - Validation Loss: 0.6157147841776558\n",
            "Epoch [63/100] - Train Loss: 0.5319139394961613\n",
            "Epoch [63/100] - Validation Loss: 0.6146717842118549\n",
            "Epoch [64/100] - Train Loss: 0.5292411183964618\n",
            "Epoch [64/100] - Validation Loss: 0.6147110423853885\n",
            "Epoch [65/100] - Train Loss: 0.5269806539298783\n",
            "Epoch [65/100] - Validation Loss: 0.6151990188002039\n",
            "Epoch [66/100] - Train Loss: 0.5253257354275441\n",
            "Epoch [66/100] - Validation Loss: 0.6149393843735427\n",
            "Epoch [67/100] - Train Loss: 0.5219800700499139\n",
            "Epoch [67/100] - Validation Loss: 0.6179262169752177\n",
            "Epoch [68/100] - Train Loss: 0.5221248858568954\n",
            "Epoch [68/100] - Validation Loss: 0.615497058628231\n",
            "Epoch [69/100] - Train Loss: 0.5184994008339626\n",
            "Epoch [69/100] - Validation Loss: 0.6129814582194116\n",
            "Epoch [70/100] - Train Loss: 0.5160124099380533\n",
            "Epoch [70/100] - Validation Loss: 0.6151360009380203\n",
            "Epoch [71/100] - Train Loss: 0.5141666161657219\n",
            "Epoch [71/100] - Validation Loss: 0.6151863626053808\n",
            "Epoch [72/100] - Train Loss: 0.5119006209285326\n",
            "Epoch [72/100] - Validation Loss: 0.6153498032245766\n",
            "Epoch [73/100] - Train Loss: 0.5095924191885222\n",
            "Epoch [73/100] - Validation Loss: 0.6137340379595251\n",
            "Epoch [74/100] - Train Loss: 0.5074677934056856\n",
            "Epoch [74/100] - Validation Loss: 0.6130321489895607\n",
            "Epoch [75/100] - Train Loss: 0.5056271986825995\n",
            "Epoch [75/100] - Validation Loss: 0.6144148439151375\n",
            "Epoch [76/100] - Train Loss: 0.5033952349954298\n",
            "Epoch [76/100] - Validation Loss: 0.613106435109839\n",
            "Epoch [77/100] - Train Loss: 0.5014272643594255\n",
            "Epoch [77/100] - Validation Loss: 0.6151660148568969\n",
            "Epoch [78/100] - Train Loss: 0.4997091432639831\n",
            "Epoch [78/100] - Validation Loss: 0.6149875410947939\n",
            "Epoch [79/100] - Train Loss: 0.4979095115575572\n",
            "Epoch [79/100] - Validation Loss: 0.614396386485388\n",
            "Early stopping. Loading best model.\n"
          ]
        },
        {
          "data": {
            "image/png": "[encoded data removed]",
            "text/plain": [
              "<Figure size 640x480 with 1 Axes>"
            ]
          },
          "metadata": {},
          "output_type": "display_data"
        },
        {
          "name": "stderr",
          "output_type": "stream",
          "text": [
            "\n",
            "A value is trying to be set on a copy of a slice from a DataFrame.\n",
            "Try using .loc[row_indexer,col_indexer] = value instead\n",
            "\n",
            "See the caveats in the documentation: https://pandas.pydata.org/pandas-docs/stable/user_guide/indexing.html#returning-a-view-versus-a-copy\n"
          ]
        },
        {
          "name": "stdout",
          "output_type": "stream",
          "text": [
            "Accuracy: 0.59\n",
            "Precision: 0.72\n",
            "Recall: 0.53\n",
            "F1 Score: 0.61\n",
            "Cohen's Kappa: 0.21\n",
            "Matthew's Correlation Coefficient: 0.22\n",
            "ROC AUC Score: 0.61\n",
            "Classification Report:\n",
            "              precision    recall  f1-score   support\n",
            "\n",
            "         0.0       0.49      0.69      0.57       315\n",
            "         1.0       0.72      0.53      0.61       480\n",
            "\n",
            "    accuracy                           0.59       795\n",
            "   macro avg       0.61      0.61      0.59       795\n",
            "weighted avg       0.63      0.59      0.60       795\n",
            "\n",
            "Accuracy: 0.70\n",
            "Precision: 0.81\n",
            "Recall: 0.54\n",
            "F1 Score: 0.65\n",
            "Cohen's Kappa: 0.40\n",
            "Matthew's Correlation Coefficient: 0.43\n",
            "ROC AUC Score: 0.70\n",
            "Classification Report:\n",
            "              precision    recall  f1-score   support\n",
            "\n",
            "         0.0       0.63      0.86      0.73        22\n",
            "         1.0       0.81      0.54      0.65        24\n",
            "\n",
            "    accuracy                           0.70        46\n",
            "   macro avg       0.72      0.70      0.69        46\n",
            "weighted avg       0.73      0.70      0.69        46\n",
            "\n"
          ]
        },
        {
          "data": {
            "image/png": "[encoded data removed]",
            "text/plain": [
              "<Figure size 640x480 with 2 Axes>"
            ]
          },
          "metadata": {},
          "output_type": "display_data"
        },
        {
          "data": {
            "image/png": "[encoded data removed]",
            "text/plain": [
              "<Figure size 640x480 with 2 Axes>"
            ]
          },
          "metadata": {},
          "output_type": "display_data"
        }
      ],
      "source": [
        "import torch\n",
        "import torch.nn as nn\n",
        "import torch.optim as optim\n",
        "import matplotlib.pyplot as plt\n",
        "train,val,test = new_df[new_df[\"Split\"] == \"train\"], new_df[new_df[\"Split\"] == \"val\"],new_df[new_df[\"Split\"] == \"test\"]\n",
        "\n",
        "train_embeddings = embeddings[train.index]\n",
        "val_embeddings = embeddings[val.index]\n",
        "test_embeddings = embeddings[test.index]\n",
        "\n",
        "X_train, X_val, X_test = train_embeddings, val_embeddings, test_embeddings\n",
        "y_train, y_val, y_test = train[\"Target\"].values,  val[\"Target\"].values,test[\"Target\"].values\n",
        "print_split_stats(X_train,X_val ,X_test , y_train, y_val,y_test, train, val, test)\n",
        "\n",
        "X_train = torch.tensor(X_train, dtype=torch.float32).to(device)\n",
        "X_val = torch.tensor(X_val, dtype=torch.float32).to(device)\n",
        "X_test = torch.tensor(X_test, dtype=torch.float32).to(device)\n",
        "\n",
        "y_train = torch.tensor(y_train, dtype=torch.float32).to(device)\n",
        "y_val = torch.tensor(y_val, dtype=torch.float32).to(device)\n",
        "y_test = torch.tensor(y_test, dtype=torch.float32).to(device)\n",
        "\n",
        "class BinaryClassificationModel(nn.Module):\n",
        "    def __init__(self, input_dim, hidden_dim, output_dim):\n",
        "        super(BinaryClassificationModel, self).__init__()\n",
        "        self.fc1 = nn.Linear(input_dim, hidden_dim)\n",
        "        self.fc2 = nn.Linear(hidden_dim, output_dim)\n",
        "        self.sigmoid = nn.Sigmoid()\n",
        "        self.dropout = nn.Dropout(0.01)\n",
        "\n",
        "    def forward(self, x):\n",
        "        x = self.fc1(x)\n",
        "        x = torch.relu(x)\n",
        "\n",
        "        x = self.dropout(x)\n",
        "\n",
        "        x = self.fc2(x)\n",
        "        x = self.sigmoid(x)\n",
        "        return x\n",
        "\n",
        "# Define the dimensions\n",
        "input_dim = 768  # Size of BERT embeddings\n",
        "hidden_dim = 256  # Adjust this as needed\n",
        "output_dim = 1  # Binary classification\n",
        "\n",
        "# Create an instance of the model\n",
        "model = BinaryClassificationModel(input_dim, hidden_dim, output_dim).to(device)\n",
        "\n",
        "# Loss and optimizer\n",
        "criterion = torch.nn.BCELoss()  # Binary Cross Entropy Loss\n",
        "optimizer = torch.optim.Adam(model.parameters(), lr=0.0001)\n",
        "\n",
        "# Training loop (you may need to adjust batch size and epochs)\n",
        "epochs = 100\n",
        "batch_size = 32\n",
        "\n",
        "# Lists to store losses for each epoch\n",
        "train_losses = []\n",
        "val_losses = []\n",
        "\n",
        "best_val_loss = float('inf')\n",
        "patience = 10\n",
        "early_stopping_counter = 0\n",
        "\n",
        "for epoch in range(epochs):\n",
        "    # Lists to store losses for each batch in the current epoch\n",
        "    train_batch_losses = []\n",
        "    \n",
        "    # Training loop\n",
        "    for i in range(0, len(X_train), batch_size):\n",
        "        inputs = X_train[i:i+batch_size]\n",
        "        labels = y_train[i:i+batch_size]\n",
        "\n",
        "        optimizer.zero_grad()\n",
        "        outputs = model(inputs)\n",
        "        loss = criterion(outputs.squeeze(), labels)\n",
        "        train_batch_losses.append(loss.item())  # Store the batch loss\n",
        "        loss.backward()\n",
        "        optimizer.step()\n",
        "    \n",
        "    # Calculate and store the average training loss for the epoch\n",
        "    avg_train_loss = sum(train_batch_losses) / len(train_batch_losses)\n",
        "    train_losses.append(avg_train_loss)\n",
        "    \n",
        "    print(f\"Epoch [{epoch+1}/{epochs}] - Train Loss: {avg_train_loss}\")\n",
        "    \n",
        "    # Validation loop\n",
        "    val_batch_losses = []\n",
        "    with torch.no_grad():\n",
        "        for i in range(0, len(X_val), batch_size):\n",
        "            val_inputs = X_val[i:i+batch_size]\n",
        "            val_labels = y_val[i:i+batch_size]\n",
        "\n",
        "            val_outputs = model(val_inputs)\n",
        "            val_loss = criterion(val_outputs.squeeze(), val_labels)\n",
        "            val_batch_losses.append(val_loss.item())  # Store the validation batch loss\n",
        "    \n",
        "    # Calculate and store the average validation loss for the epoch\n",
        "    avg_val_loss = sum(val_batch_losses) / (len(val_batch_losses) + 1e-10)\n",
        "    val_losses.append(avg_val_loss)\n",
        "    \n",
        "    print(f\"Epoch [{epoch+1}/{epochs}] - Validation Loss: {avg_val_loss}\")\n",
        "\n",
        "    if avg_val_loss < best_val_loss:\n",
        "        best_val_loss = avg_val_loss\n",
        "        torch.save(model.state_dict(), 'best_model.pth')\n",
        "        early_stopping_counter = 0\n",
        "    else:\n",
        "        early_stopping_counter += 1\n",
        "\n",
        "    if early_stopping_counter >= patience:\n",
        "        print(\"Early stopping. Loading best model.\")\n",
        "        model.load_state_dict(torch.load('best_model.pth'))\n",
        "        break\n",
        "\n",
        "# Plot the training and validation losses\n",
        "plt.plot(range(1, epoch+2), train_losses, label='Train Loss')\n",
        "plt.plot(range(1, epoch+2), val_losses, label='Validation Loss')\n",
        "plt.xlabel('Epoch')\n",
        "plt.ylabel('Average Loss')\n",
        "plt.title('Training and Validation Loss')\n",
        "plt.legend()\n",
        "plt.show()\n",
        "\n",
        "probabilities = model(X_test)\n",
        "probabilities = probabilities.cpu().detach().numpy()\n",
        "class_predictions = (probabilities >= 0.5)\n",
        "nn_preds = class_predictions*1.0\n",
        "test[\"NN Preds\"] = nn_preds\n",
        "test_vals = np.round(test.groupby([\"Author\",\"Work\"])[[\"Target\",\"NN Preds\"]].mean().values)\n",
        "y_true, pred = test_vals[:,0], test_vals[:,1]\n",
        "print_classification_metrics(y_test.cpu().detach().numpy(),nn_preds,[0,1])  \n",
        "print_classification_metrics(y_true,pred,[0,1])  "
      ]
    },
    {
      "cell_type": "markdown",
      "metadata": {},
      "source": [
        "Copying these to the main notebook"
      ]
    },
    {
      "cell_type": "code",
      "execution_count": 102,
      "metadata": {},
      "outputs": [
        {
          "data": {
            "text/plain": [
              "array([0., 0., 0., 1., 0., 0., 0., 0., 0., 1., 0., 0., 1., 0., 1., 0., 1.,\n",
              "       0., 0., 0., 0., 0., 1., 0., 0., 0., 0., 0., 0., 0., 0., 0., 0., 0.,\n",
              "       0., 0., 0., 0., 0., 0., 0., 0., 0., 0., 0., 0., 0., 0., 1., 1., 1.,\n",
              "       1., 1., 1., 1.])"
            ]
          },
          "execution_count": 102,
          "metadata": {},
          "output_type": "execute_result"
        }
      ],
      "source": [
        "pred_val"
      ]
    },
    {
      "cell_type": "code",
      "execution_count": 101,
      "metadata": {},
      "outputs": [
        {
          "data": {
            "text/plain": [
              "array([1., 1., 0., 0., 0., 0., 0., 0., 1., 1., 1., 1., 1., 1., 1., 0., 1.,\n",
              "       0., 0., 1., 0., 0., 0., 1., 0., 0., 0., 0., 1., 0., 0., 0., 1., 1.,\n",
              "       0., 0., 0., 0., 0., 0., 0., 0., 0., 0., 1., 0.])"
            ]
          },
          "execution_count": 101,
          "metadata": {},
          "output_type": "execute_result"
        }
      ],
      "source": [
        "pred_test"
      ]
    }
  ],
  "metadata": {
    "accelerator": "GPU",
    "colab": {
      "gpuType": "T4",
      "provenance": []
    },
    "kernelspec": {
      "display_name": "Python 3",
      "name": "python3"
    },
    "language_info": {
      "codemirror_mode": {
        "name": "ipython",
        "version": 3
      },
      "file_extension": ".py",
      "mimetype": "text/x-python",
      "name": "python",
      "nbconvert_exporter": "python",
      "pygments_lexer": "ipython3",
      "version": "3.9.16"
    }
  },
  "nbformat": 4,
  "nbformat_minor": 0
}
